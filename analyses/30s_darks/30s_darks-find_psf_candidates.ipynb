{
 "cells": [
  {
   "cell_type": "markdown",
   "id": "3c91c95d",
   "metadata": {},
   "source": [
    "# SLA1 Camera Characterization\n",
    "\n",
    "## Hot Pixel Leaders in 30s Darks\n",
    "\n",
    "On May 8, 2024 (UTC) we took various dark exposures with the [QHY42 Pro](https://www.qhyccd.com/qhy42pro/) camera.\n",
    "\n",
    "As they are read in, the darks are scaled to undo zero padding (divided by 16) and the effect of gain (multiplied by 1.39).\n",
    "\n",
    "They are then combined into a master dark. The master dark is subtracted from the individual darks.\n",
    "\n",
    "Then we classify all pixels whose values exceed a threshold of 200 as hot pixels. From among these, only the hot pixels which are brighter than their eight nearest neighbors are declared to be &ldquo;leaders&rdquo;\n",
    "and the region around them is displayed.\n"
   ]
  },
  {
   "cell_type": "code",
   "execution_count": 1,
   "id": "8d9d239c",
   "metadata": {},
   "outputs": [
    {
     "name": "stderr",
     "output_type": "stream",
     "text": [
      "WARNING: FITSFixedWarning: 'datfix' made the change 'Set MJD-OBS to -678575.000000 from DATE-OBS.\n",
      "Set MJD-END to 60438.151953 from DATE-END'. [astropy.wcs.wcs]\n",
      "WARNING:astropy:FITSFixedWarning: 'datfix' made the change 'Set MJD-OBS to -678575.000000 from DATE-OBS.\n",
      "Set MJD-END to 60438.151953 from DATE-END'.\n",
      "WARNING: FITSFixedWarning: 'datfix' made the change 'Set MJD-OBS to -678575.000000 from DATE-OBS.\n",
      "Set MJD-END to 60438.152301 from DATE-END'. [astropy.wcs.wcs]\n",
      "WARNING:astropy:FITSFixedWarning: 'datfix' made the change 'Set MJD-OBS to -678575.000000 from DATE-OBS.\n",
      "Set MJD-END to 60438.152301 from DATE-END'.\n",
      "WARNING: FITSFixedWarning: 'datfix' made the change 'Set MJD-OBS to -678575.000000 from DATE-OBS.\n",
      "Set MJD-END to 60438.152648 from DATE-END'. [astropy.wcs.wcs]\n",
      "WARNING:astropy:FITSFixedWarning: 'datfix' made the change 'Set MJD-OBS to -678575.000000 from DATE-OBS.\n",
      "Set MJD-END to 60438.152648 from DATE-END'.\n",
      "WARNING: FITSFixedWarning: 'datfix' made the change 'Set MJD-OBS to -678575.000000 from DATE-OBS.\n",
      "Set MJD-END to 60438.152995 from DATE-END'. [astropy.wcs.wcs]\n",
      "WARNING:astropy:FITSFixedWarning: 'datfix' made the change 'Set MJD-OBS to -678575.000000 from DATE-OBS.\n",
      "Set MJD-END to 60438.152995 from DATE-END'.\n",
      "WARNING: FITSFixedWarning: 'datfix' made the change 'Set MJD-OBS to -678575.000000 from DATE-OBS.\n",
      "Set MJD-END to 60438.153342 from DATE-END'. [astropy.wcs.wcs]\n",
      "WARNING:astropy:FITSFixedWarning: 'datfix' made the change 'Set MJD-OBS to -678575.000000 from DATE-OBS.\n",
      "Set MJD-END to 60438.153342 from DATE-END'.\n",
      "WARNING: FITSFixedWarning: 'datfix' made the change 'Set MJD-OBS to -678575.000000 from DATE-OBS.\n",
      "Set MJD-END to 60438.153689 from DATE-END'. [astropy.wcs.wcs]\n",
      "WARNING:astropy:FITSFixedWarning: 'datfix' made the change 'Set MJD-OBS to -678575.000000 from DATE-OBS.\n",
      "Set MJD-END to 60438.153689 from DATE-END'.\n",
      "WARNING: FITSFixedWarning: 'datfix' made the change 'Set MJD-OBS to -678575.000000 from DATE-OBS.\n",
      "Set MJD-END to 60438.154037 from DATE-END'. [astropy.wcs.wcs]\n",
      "WARNING:astropy:FITSFixedWarning: 'datfix' made the change 'Set MJD-OBS to -678575.000000 from DATE-OBS.\n",
      "Set MJD-END to 60438.154037 from DATE-END'.\n",
      "WARNING: FITSFixedWarning: 'datfix' made the change 'Set MJD-OBS to -678575.000000 from DATE-OBS.\n",
      "Set MJD-END to 60438.154384 from DATE-END'. [astropy.wcs.wcs]\n",
      "WARNING:astropy:FITSFixedWarning: 'datfix' made the change 'Set MJD-OBS to -678575.000000 from DATE-OBS.\n",
      "Set MJD-END to 60438.154384 from DATE-END'.\n",
      "WARNING: FITSFixedWarning: 'datfix' made the change 'Set MJD-OBS to -678575.000000 from DATE-OBS.\n",
      "Set MJD-END to 60438.154731 from DATE-END'. [astropy.wcs.wcs]\n",
      "WARNING:astropy:FITSFixedWarning: 'datfix' made the change 'Set MJD-OBS to -678575.000000 from DATE-OBS.\n",
      "Set MJD-END to 60438.154731 from DATE-END'.\n",
      "WARNING: FITSFixedWarning: 'datfix' made the change 'Set MJD-OBS to -678575.000000 from DATE-OBS.\n",
      "Set MJD-END to 60438.155078 from DATE-END'. [astropy.wcs.wcs]\n",
      "WARNING:astropy:FITSFixedWarning: 'datfix' made the change 'Set MJD-OBS to -678575.000000 from DATE-OBS.\n",
      "Set MJD-END to 60438.155078 from DATE-END'.\n"
     ]
    }
   ],
   "source": [
    "# THIS COMMENT IS THE LONGEST A LINE CAN BE AND STILL RENDER COMPLETELY WHEN PRINTING IN LANDSCAPE MODE.\n",
    "\n",
    "import os, sys\n",
    "import numpy as np\n",
    "from astropy import units as u\n",
    "from astropy.nddata import CCDData\n",
    "from astropy.io import fits\n",
    "from ccdproc import ImageFileCollection, combine, subtract_dark, flat_correct # Combiner\n",
    "import astroalign as aa\n",
    "import matplotlib.pyplot as plt\n",
    "%matplotlib inline\n",
    "from math import log10, floor\n",
    "\n",
    "home_directory = os.path.expanduser('~')\n",
    "\n",
    "# soft link to directory containing raw images\n",
    "sessions_directory = os.path.join(home_directory, '2024 SLA Sessions')\n",
    "\n",
    "uv_project_directory = os.path.join(home_directory, 'Projects', 'uv-transients')\n",
    "analysis_directory = os.path.join(uv_project_directory, 'analyses', '30s_darks')\n",
    "\n",
    "# The path to the first dark on SLA1 is D:/Raw/2024-05-08/03_38_48/Dark30s/00001.fits\n",
    "# The files to be processed need to be mirrored on the local machine\n",
    "# at ~/2024 SLA Sessions/ using the same subdirectory structure.\n",
    "capture_date = '2024-05-08'\n",
    "capture_time = '03_38_48'\n",
    "object_name = 'Dark30s'\n",
    "\n",
    "# Amount to scale the image data (typically to undo 0 padding of 12-bit to 16-bit values)\n",
    "\n",
    "scale_due_to_padding = 2**4  # This is division by 16\n",
    "\n",
    "scale_due_to_gain = 1.39  # from QHYCCD manual for gain of 5\n",
    "\n",
    "scale = scale_due_to_gain / scale_due_to_padding\n",
    "\n",
    "# threshold for flagging hot pixels\n",
    "\n",
    "threshold = 200\n",
    "\n",
    "# subdirectory for the 30-second darks (following SharpCap Pro capture directory conventions)\n",
    "dark_directory = os.path.join(\n",
    "    sessions_directory,\n",
    "    capture_date,\n",
    "    capture_time,\n",
    "    object_name\n",
    ")\n",
    "\n",
    "# exposure duration\n",
    "\n",
    "dark_exposure = 30.0\n",
    "dark_exposure_with_ccdproc_units = dark_exposure * u.second\n",
    "\n",
    "# FITS header confirmation\n",
    "\n",
    "def confirm_fits_header(image, dimensions, exposure_time, filter):\n",
    "    header = image.header\n",
    "    assert header['NAXIS1'] == dimensions[0]\n",
    "    assert header['NAXIS2'] == dimensions[1]\n",
    "    assert header['EXPTIME'] == exposure_time\n",
    "    if filter:\n",
    "        assert header['FILTER'].rstrip() == filter\n",
    "        \n",
    "# Reader with optional parameter to scale (divide) the ADU readings\n",
    "\n",
    "def scaled_image_reader(file, scale=1):\n",
    "    img = CCDData.read(file, unit=u.adu)\n",
    "    scaled_data = img.data * scale\n",
    "    img.data = scaled_data\n",
    "    return img\n",
    "\n",
    "# After all the preliminaries, we read in and combine the dark files\n",
    "\n",
    "dark_files = ImageFileCollection(dark_directory).files_filtered(include_path='True')\n",
    "\n",
    "darks = [scaled_image_reader(file, scale=scale) for file in dark_files]\n",
    "\n",
    "for dark in darks:\n",
    "    confirm_fits_header(dark, (2048, 2048), dark_exposure, None)\n",
    "\n",
    "combination_method = 'median'  # alternatively, the method can be 'average'\n",
    "\n",
    "master_dark = combine(darks, method=combination_method)\n"
   ]
  },
  {
   "cell_type": "markdown",
   "id": "76465a34",
   "metadata": {},
   "source": [
    "## Inspect the Data of the Master Dark and a Representative Dark\n",
    "\n",
    "At this point, the darks and the master_dark are observed to \n",
    "have values of order 1000 ADU, with some outliers far outside that range.\n"
   ]
  },
  {
   "cell_type": "code",
   "execution_count": 2,
   "id": "5dff390b",
   "metadata": {},
   "outputs": [
    {
     "data": {
      "text/plain": [
       "array([[5.56000000e+02, 5.34368125e+03, 3.04062500e-01, ...,\n",
       "        1.29834687e+03, 1.30108344e+03, 1.25013125e+03],\n",
       "       [4.98749375e+02, 4.98749375e+02, 1.52947781e+03, ...,\n",
       "        1.25460531e+03, 1.45228937e+03, 1.23327750e+03],\n",
       "       [1.49537937e+03, 1.55445437e+03, 1.55723438e+03, ...,\n",
       "        1.25186875e+03, 1.30108344e+03, 1.41849500e+03],\n",
       "       ...,\n",
       "       [6.95955625e+02, 7.73491562e+02, 7.24885000e+02, ...,\n",
       "        1.34695344e+03, 1.31633000e+03, 1.37132187e+03],\n",
       "       [7.66975937e+02, 7.93081875e+02, 8.24313437e+02, ...,\n",
       "        1.61109687e+03, 1.66717469e+03, 1.55719094e+03],\n",
       "       [9.09190312e+02, 1.59715344e+03, 9.83555312e+02, ...,\n",
       "        2.41773125e+03, 2.18690438e+03, 2.13873219e+03]])"
      ]
     },
     "execution_count": 2,
     "metadata": {},
     "output_type": "execute_result"
    }
   ],
   "source": [
    "# np.set_printoptions(threshold=sys.maxsize) # Uncommenting this line will cause serious I/O strain\n",
    "\n",
    "master_dark.data"
   ]
  },
  {
   "cell_type": "code",
   "execution_count": 3,
   "id": "cf4e92db",
   "metadata": {},
   "outputs": [
    {
     "data": {
      "text/plain": [
       "array([[ 556.      , 5354.80125 ,    0.      , ..., 1300.17125 ,\n",
       "        1300.17125 , 1241.27    ],\n",
       "       [ 498.749375,  498.749375, 1518.40125 , ..., 1318.0675  ,\n",
       "        1419.36375 , 1216.42375 ],\n",
       "       [1516.576875, 1583.21    , 1518.40125 , ..., 1239.5325  ,\n",
       "        1397.558125, 1410.32875 ],\n",
       "       ...,\n",
       "       [ 694.391875,  788.13    ,  712.0275  , ..., 1314.505625,\n",
       "        1383.136875, 1363.155625],\n",
       "       [ 763.718125,  794.7325  ,  825.920625, ..., 1629.775   ,\n",
       "        1672.778125, 1522.05    ],\n",
       "       [ 958.144375, 1596.24125 , 1004.014375, ..., 2470.03    ,\n",
       "        2114.19    , 2175.17625 ]])"
      ]
     },
     "execution_count": 3,
     "metadata": {},
     "output_type": "execute_result"
    }
   ],
   "source": [
    "darks[5].data"
   ]
  },
  {
   "cell_type": "markdown",
   "id": "9a85aaf4",
   "metadata": {},
   "source": [
    "## Subtract Master Dark from Darks"
   ]
  },
  {
   "cell_type": "code",
   "execution_count": 4,
   "id": "6f285a85",
   "metadata": {},
   "outputs": [],
   "source": [
    "subtracted_darks = [\n",
    "    subtract_dark(\n",
    "        dark,\n",
    "        master_dark,\n",
    "        data_exposure=dark_exposure_with_ccdproc_units,\n",
    "        dark_exposure=dark_exposure_with_ccdproc_units,\n",
    "        scale=False\n",
    "    )\n",
    "    for dark in darks\n",
    "]\n"
   ]
  },
  {
   "cell_type": "markdown",
   "id": "f52d8dc3",
   "metadata": {},
   "source": [
    "## Inspect the Data of a Representative Subtracted Dark\n",
    "\n",
    "The subtracted darks are observed to \n",
    "have values ranging from something like -50 to +50 ADU."
   ]
  },
  {
   "cell_type": "code",
   "execution_count": 5,
   "id": "a11598bb",
   "metadata": {},
   "outputs": [
    {
     "data": {
      "text/plain": [
       "array([[  0.       ,  11.12     ,  -0.3040625, ...,   1.824375 ,\n",
       "         -0.9121875,  -8.86125  ],\n",
       "       [  0.       ,   0.       , -11.0765625, ...,  63.4621875,\n",
       "        -32.925625 , -16.85375  ],\n",
       "       [ 21.1975   ,  28.755625 , -38.833125 , ..., -12.33625  ,\n",
       "         96.4746875,  -8.16625  ],\n",
       "       ...,\n",
       "       [ -1.56375  ,  14.6384375, -12.8575   , ..., -32.4478125,\n",
       "         66.806875 ,  -8.16625  ],\n",
       "       [ -3.2578125,   1.650625 ,   1.6071875, ...,  18.678125 ,\n",
       "          5.6034375, -35.1409375],\n",
       "       [ 48.9540625,  -0.9121875,  20.4590625, ...,  52.29875  ,\n",
       "        -72.714375 ,  36.4440625]])"
      ]
     },
     "execution_count": 5,
     "metadata": {},
     "output_type": "execute_result"
    }
   ],
   "source": [
    "# np.set_printoptions(threshold=sys.maxsize) # Uncommenting this line will cause serious I/O strain\n",
    "\n",
    "representative_dark_data = subtracted_darks[5].data\n",
    "representative_dark_data"
   ]
  },
  {
   "cell_type": "markdown",
   "id": "c5483a24",
   "metadata": {},
   "source": [
    "## The Routines for Locating Hot Pixel Leaders\n",
    "\n",
    "As a first cut, we will search for all pixels that exceed some threshold. These are the &ldquo;hot pixels.&rdquo;\n",
    "\n",
    "Then each hot pixel is examined to see if it is the brightest relative to its eight nearest neighbors. If it is, it is added to the list of leaders. (A small bit of tie-breaking code is incorporated.)"
   ]
  },
  {
   "cell_type": "code",
   "execution_count": 6,
   "id": "73ff074e",
   "metadata": {},
   "outputs": [],
   "source": [
    "from collections import namedtuple\n",
    "\n",
    "HotPixel = namedtuple('HotPixel', 'x y value')\n",
    "HotPixelGroup = namedtuple('HotPixelGroup', 'leader_index hot_pixels')\n",
    "\n",
    "def is_winner(candidate_leader, i, j, data):\n",
    "    if candidate_leader.value > data[j, i]:\n",
    "        return True\n",
    "    elif candidate_leader[2] == data[j, i]:\n",
    "        # some nasty tie-breaking\n",
    "        if candidate_leader[0] > i:\n",
    "            return True\n",
    "        elif candidate_leader[0] == i and candidate_leader[1] > j:\n",
    "            return True\n",
    "    else:\n",
    "        return False\n",
    "\n",
    "def is_leader(candidate_leader, data):\n",
    "    data_height, data_width = data.shape\n",
    "    for offset_y in [-1, 0, 1]:\n",
    "        j = floor(candidate_leader.y + offset_y)\n",
    "        if j < 0 or j >= data_height:\n",
    "            continue\n",
    "        for offset_x in [-1, 0, 1]:\n",
    "            i = floor(candidate_leader.x + offset_x)\n",
    "            # we don't compare the candidate wih itself\n",
    "            if offset_x == 0 and offset_y == 0:\n",
    "                continue\n",
    "            if i < 0 or i >= data_width:\n",
    "                continue\n",
    "            if not is_winner(candidate_leader, i, j, data):\n",
    "                return False\n",
    "    return True\n",
    "\n",
    "\n",
    "def find_hot_pixel_leaders(data, threshold=threshold):\n",
    "    # first we simply find all the hot pixels\n",
    "    data_height, data_width = data.shape\n",
    "    exceedances = data > threshold  # an array of true-false values\n",
    "    values_of_exceedances = data[exceedances]\n",
    "    exceedance_indices = np.nonzero(exceedances)  # a crafty way of getting the indices of the exceedances\n",
    "    # all of the hot pixels are candidate leaders\n",
    "    candidate_leaders = np.transpose([exceedance_indices[1], exceedance_indices[0], values_of_exceedances])\n",
    "    leaders = []\n",
    "    for i in range(candidate_leaders.shape[0]):\n",
    "        row = candidate_leaders[i]\n",
    "        candidate_leader = HotPixel(row[0], row[1], row[2])\n",
    "        if is_leader(candidate_leader, data):\n",
    "            leaders.append(candidate_leader)\n",
    "    return leaders\n"
   ]
  },
  {
   "cell_type": "markdown",
   "id": "60834df0",
   "metadata": {},
   "source": [
    "## Find and Display the Hot Pixel Leaders\n",
    "\n",
    "Now we classify all the pixels whose values exceed the threshold as hot pixels. From among these, only the ones\n",
    "which are brighter than their eight nearest neighbors are declared to be &ldquo;leaders&rdquo; and the\n",
    "region around them is displayed.\n"
   ]
  },
  {
   "cell_type": "code",
   "execution_count": 7,
   "id": "c4126788",
   "metadata": {},
   "outputs": [],
   "source": [
    "# Find the leaders\n",
    "\n",
    "hot_pixel_leaders = find_hot_pixel_leaders(representative_dark_data, threshold=threshold)\n",
    "\n",
    "# print(len(hot_pixel_leaders))\n",
    "\n",
    "# hot_pixel_leaders"
   ]
  },
  {
   "cell_type": "code",
   "execution_count": 8,
   "id": "39140390",
   "metadata": {
    "scrolled": false
   },
   "outputs": [],
   "source": [
    "# Display the leaders -- contains a bit of fussy code for dealing with leaders near the edge\n",
    "\n",
    "def display_leader(data, leader):\n",
    "\n",
    "    lower_x = floor(leader.x - 5)\n",
    "    upper_x = floor(lower_x + 11)\n",
    "    slice_x = slice(lower_x, upper_x)\n",
    "    lower_y = floor(leader.y - 5)\n",
    "    upper_y = floor(lower_y + 11)\n",
    "    slice_y = slice(lower_y, upper_y)\n",
    "    \n",
    "    fig_size_x = 4\n",
    "    fig_size_y = 4\n",
    "    \n",
    "    # a bit of fussy code for dealing with leaders near the edge\n",
    "    \n",
    "    if (lower_x < 0):\n",
    "        lower_x = 0\n",
    "        fig_size_x /= upper_x / 11\n",
    "    elif (upper_x > 2048):\n",
    "        upper_x = 2048\n",
    "        fig_size_x /= (2048 - lower_x) / 11\n",
    "\n",
    "        \n",
    "    if (lower_y < 0):\n",
    "        lower_y = 0\n",
    "        fig_size_y /= upper_y / 11\n",
    "    elif (upper_y > 2048):\n",
    "        upper_y = 2048\n",
    "        fig_size_y /= (2048 - upper_y) / 11\n",
    "\n",
    "    fig, axes = plt.subplots(1, 1, figsize=(fig_size_x, fig_size_y))\n",
    "\n",
    "    title = \"x={}:{}, y={}:{} around {}\".format(lower_x, upper_x - 1, lower_y, upper_y - 1, leader)\n",
    "    \n",
    "    subframe = representative_dark_data[lower_y:upper_y, lower_x:upper_x]\n",
    "    \n",
    "    axes.imshow(subframe, cmap='gray')\n",
    "    axes.set_title(title, fontsize=12)\n",
    "    plt.tight_layout()\n",
    "    plt.show()\n",
    "\n",
    "# for leader in hot_pixel_leaders:\n",
    "#     display_leader(representative_dark_data, leader)\n"
   ]
  },
  {
   "cell_type": "markdown",
   "id": "5506f9bf",
   "metadata": {},
   "source": [
    "## Eliminate Bogosities\n",
    "\n",
    "The pixels are 1.5x1.5 arcsec. In seeing of FWHM=3 arcsec, the PSF will have a FWHM=2 pixels.\n",
    "\n",
    "A quick criterion for non-PSF-shaped regions is any pixel with >100 e- that has a neighbor <20% of the peak is inconsistent with a PSF.\n",
    "\n",
    "A better criterion to consider implementaing later:\n",
    "\n",
    "Compute the probability that the  5x5 pixels (with >200 e-) could have been drawn from the PSF shape plus Poisson noise. Essentially chi-squared. Normalize perhaps by the peak value set to 1.0, or normalized by total area.\n"
   ]
  },
  {
   "cell_type": "code",
   "execution_count": 9,
   "id": "cd8c7593",
   "metadata": {},
   "outputs": [],
   "source": [
    "def is_not_obviously_bogus(leader, data):\n",
    "    data_height, data_width = data.shape\n",
    "    for offset_x, offset_y in [(-1, 0), (0, -1), (1, 0), (0, 1)]:\n",
    "        j = floor(leader.y + offset_y)\n",
    "        i = floor(leader.x + offset_x)\n",
    "        if j < 0 or j >= data_height:\n",
    "            continue\n",
    "        if i < 0 or i >= data_width:\n",
    "            continue\n",
    "        if data[j, i] < 0.2 * leader.value:\n",
    "                return False\n",
    "    return True\n",
    "\n",
    "\n",
    "not_obviously_bogus = [\n",
    "    [leader for leader in hot_pixel_leaders if is_not_obviously_bogus(leader, representative_dark_data)]\n",
    "]\n"
   ]
  },
  {
   "cell_type": "code",
   "execution_count": 11,
   "id": "0b5e21d1",
   "metadata": {},
   "outputs": [
    {
     "name": "stdout",
     "output_type": "stream",
     "text": [
      "[]\n"
     ]
    },
    {
     "ename": "AttributeError",
     "evalue": "'list' object has no attribute 'x'",
     "output_type": "error",
     "traceback": [
      "\u001b[0;31m---------------------------------------------------------------------------\u001b[0m",
      "\u001b[0;31mAttributeError\u001b[0m                            Traceback (most recent call last)",
      "Cell \u001b[0;32mIn[11], line 3\u001b[0m\n\u001b[1;32m      1\u001b[0m \u001b[38;5;28;01mfor\u001b[39;00m leader \u001b[38;5;129;01min\u001b[39;00m not_obviously_bogus:\n\u001b[1;32m      2\u001b[0m     \u001b[38;5;28mprint\u001b[39m(leader)\n\u001b[0;32m----> 3\u001b[0m     \u001b[43mdisplay_leader\u001b[49m\u001b[43m(\u001b[49m\u001b[43mrepresentative_dark_data\u001b[49m\u001b[43m,\u001b[49m\u001b[43m \u001b[49m\u001b[43mleader\u001b[49m\u001b[43m)\u001b[49m\n",
      "Cell \u001b[0;32mIn[8], line 5\u001b[0m, in \u001b[0;36mdisplay_leader\u001b[0;34m(data, leader)\u001b[0m\n\u001b[1;32m      3\u001b[0m \u001b[38;5;28;01mdef\u001b[39;00m \u001b[38;5;21mdisplay_leader\u001b[39m(data, leader):\n\u001b[0;32m----> 5\u001b[0m     lower_x \u001b[38;5;241m=\u001b[39m floor(\u001b[43mleader\u001b[49m\u001b[38;5;241;43m.\u001b[39;49m\u001b[43mx\u001b[49m \u001b[38;5;241m-\u001b[39m \u001b[38;5;241m5\u001b[39m)\n\u001b[1;32m      6\u001b[0m     upper_x \u001b[38;5;241m=\u001b[39m floor(lower_x \u001b[38;5;241m+\u001b[39m \u001b[38;5;241m11\u001b[39m)\n\u001b[1;32m      7\u001b[0m     slice_x \u001b[38;5;241m=\u001b[39m \u001b[38;5;28mslice\u001b[39m(lower_x, upper_x)\n",
      "\u001b[0;31mAttributeError\u001b[0m: 'list' object has no attribute 'x'"
     ]
    }
   ],
   "source": [
    "for leader in not_obviously_bogus:\n",
    "    print(leader)\n",
    "    display_leader(representative_dark_data, leader)\n"
   ]
  },
  {
   "cell_type": "code",
   "execution_count": 12,
   "id": "98c948c1",
   "metadata": {},
   "outputs": [
    {
     "name": "stdout",
     "output_type": "stream",
     "text": [
      "[HotPixel(x=201.0, y=1.0, value=205.5028124999999), HotPixel(x=1225.0, y=3.0, value=225.0062499999999), HotPixel(x=939.0, y=114.0, value=579.8906249999999), HotPixel(x=2043.0, y=126.0, value=212.93062499999996), HotPixel(x=2043.0, y=129.0, value=213.4084374999993), HotPixel(x=1101.0, y=130.0, value=221.57468749999998), HotPixel(x=2044.0, y=132.0, value=235.5181250000005), HotPixel(x=2038.0, y=139.0, value=217.49156249999987), HotPixel(x=2042.0, y=143.0, value=203.24406250000084), HotPixel(x=2042.0, y=148.0, value=296.9821874999998), HotPixel(x=2044.0, y=148.0, value=221.2706249999992), HotPixel(x=2045.0, y=153.0, value=202.9399999999996), HotPixel(x=421.0, y=169.0, value=274.4815625000001), HotPixel(x=1784.0, y=257.0, value=238.34156249999978), HotPixel(x=38.0, y=278.0, value=829.2653124999999), HotPixel(x=482.0, y=309.0, value=211.80124999999953), HotPixel(x=1484.0, y=339.0, value=204.50374999999985), HotPixel(x=1435.0, y=603.0, value=344.025), HotPixel(x=1696.0, y=654.0, value=214.62468750000062), HotPixel(x=1461.0, y=670.0, value=201.2893750000003), HotPixel(x=1225.0, y=713.0, value=206.02406249999967), HotPixel(x=1013.0, y=716.0, value=204.9815625000001), HotPixel(x=1771.0, y=722.0, value=243.85812499999975), HotPixel(x=2.0, y=773.0, value=317.09375), HotPixel(x=8.0, y=784.0, value=214.92875000000004), HotPixel(x=14.0, y=788.0, value=293.7678125000002), HotPixel(x=10.0, y=790.0, value=244.0753125000001), HotPixel(x=9.0, y=800.0, value=258.453125), HotPixel(x=10.0, y=804.0, value=210.88906250000036), HotPixel(x=19.0, y=804.0, value=220.35843749999958), HotPixel(x=7.0, y=809.0, value=200.7681249999996), HotPixel(x=0.0, y=818.0, value=227.56906249999975), HotPixel(x=0.0, y=869.0, value=233.17249999999967), HotPixel(x=3.0, y=871.0, value=346.4140625), HotPixel(x=3.0, y=874.0, value=256.4115624999995), HotPixel(x=1.0, y=878.0, value=273.2218750000002), HotPixel(x=1456.0, y=923.0, value=223.74656250000044), HotPixel(x=1126.0, y=958.0, value=279.1293749999995), HotPixel(x=63.0, y=1117.0, value=1240.2709375), HotPixel(x=861.0, y=1179.0, value=260.625), HotPixel(x=1066.0, y=1306.0, value=592.5743749999999), HotPixel(x=178.0, y=1318.0, value=566.5987500000001), HotPixel(x=1852.0, y=1337.0, value=202.07125000000008), HotPixel(x=1571.0, y=1476.0, value=694.044375), HotPixel(x=1562.0, y=1668.0, value=281.4315624999999), HotPixel(x=439.0, y=1749.0, value=5163.5025), HotPixel(x=351.0, y=1928.0, value=325.34687499999995), HotPixel(x=836.0, y=1929.0, value=282.3003124999998), HotPixel(x=51.0, y=1945.0, value=205.5896875000003), HotPixel(x=1349.0, y=1961.0, value=201.94093749999956), HotPixel(x=939.0, y=1984.0, value=334.64250000000015), HotPixel(x=1779.0, y=2005.0, value=202.11468749999995), HotPixel(x=2022.0, y=2023.0, value=223.9637499999999)]\n"
     ]
    }
   ],
   "source": [
    "print(hot_pixel_leaders)"
   ]
  },
  {
   "cell_type": "code",
   "execution_count": null,
   "id": "46215c66",
   "metadata": {},
   "outputs": [],
   "source": []
  }
 ],
 "metadata": {
  "kernelspec": {
   "display_name": "Python 3 (ipykernel)",
   "language": "python",
   "name": "python3"
  },
  "language_info": {
   "codemirror_mode": {
    "name": "ipython",
    "version": 3
   },
   "file_extension": ".py",
   "mimetype": "text/x-python",
   "name": "python",
   "nbconvert_exporter": "python",
   "pygments_lexer": "ipython3",
   "version": "3.10.12"
  }
 },
 "nbformat": 4,
 "nbformat_minor": 5
}
