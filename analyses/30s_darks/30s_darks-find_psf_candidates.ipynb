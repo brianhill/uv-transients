{
 "cells": [
  {
   "cell_type": "markdown",
   "id": "3c91c95d",
   "metadata": {},
   "source": [
    "# SLA1 Camera Characterization\n",
    "\n",
    "## PSF Candidates in 30s Darks\n",
    "\n",
    "On May 8, 2024 (UTC) we took various dark exposures with the [QHY42 Pro](https://www.qhyccd.com/qhy42pro/) camera.\n",
    "\n",
    "As they are read in, the darks are scaled to undo zero padding (divided by 16) and the effect of gain (multiplied by 1.39).\n",
    "\n",
    "They are then combined into a master dark. The master dark is subtracted from the individual darks.\n",
    "\n",
    "Then we find pixels that (a) exceed a threshold and (b) are brighter than their\n",
    "four nearest neighbors. These are the &ldquo;hot pixel leaders.&rdquo\n",
    "\n",
    "Then we cull the hot pixel leaders whose neighbors fall off too sharply\n",
    "using the following quick criterion for non-PSF-shaped regions: any hot pixel leader that has a neighbor <30% of the peak is not a PSF candidate.\n",
    "\n",
    "Finally, the region around these candidates is displayed.\n",
    "\n",
    "### Notes\n",
    "\n",
    "The pixels are 1.5x1.5 arcsec. In seeing of FWHM=3 arcsec, the PSF will have a FWHM=2 pixels.\n",
    "\n",
    "A better criterion to consider implementing later:\n",
    "\n",
    "Compute the probability that the  5x5 pixels (with >200 e-) could have been drawn from the PSF shape plus Poisson noise. Essentially chi-squared. Normalize perhaps by the peak value set to 1.0, or normalized by total area.\n"
   ]
  },
  {
   "cell_type": "code",
   "execution_count": 1,
   "id": "8d9d239c",
   "metadata": {},
   "outputs": [
    {
     "name": "stderr",
     "output_type": "stream",
     "text": [
      "WARNING: FITSFixedWarning: 'datfix' made the change 'Set MJD-OBS to -678575.000000 from DATE-OBS.\n",
      "Set MJD-END to 60438.151953 from DATE-END'. [astropy.wcs.wcs]\n",
      "WARNING:astropy:FITSFixedWarning: 'datfix' made the change 'Set MJD-OBS to -678575.000000 from DATE-OBS.\n",
      "Set MJD-END to 60438.151953 from DATE-END'.\n",
      "WARNING: FITSFixedWarning: 'datfix' made the change 'Set MJD-OBS to -678575.000000 from DATE-OBS.\n",
      "Set MJD-END to 60438.152301 from DATE-END'. [astropy.wcs.wcs]\n",
      "WARNING:astropy:FITSFixedWarning: 'datfix' made the change 'Set MJD-OBS to -678575.000000 from DATE-OBS.\n",
      "Set MJD-END to 60438.152301 from DATE-END'.\n",
      "WARNING: FITSFixedWarning: 'datfix' made the change 'Set MJD-OBS to -678575.000000 from DATE-OBS.\n",
      "Set MJD-END to 60438.152648 from DATE-END'. [astropy.wcs.wcs]\n",
      "WARNING:astropy:FITSFixedWarning: 'datfix' made the change 'Set MJD-OBS to -678575.000000 from DATE-OBS.\n",
      "Set MJD-END to 60438.152648 from DATE-END'.\n",
      "WARNING: FITSFixedWarning: 'datfix' made the change 'Set MJD-OBS to -678575.000000 from DATE-OBS.\n",
      "Set MJD-END to 60438.152995 from DATE-END'. [astropy.wcs.wcs]\n",
      "WARNING:astropy:FITSFixedWarning: 'datfix' made the change 'Set MJD-OBS to -678575.000000 from DATE-OBS.\n",
      "Set MJD-END to 60438.152995 from DATE-END'.\n",
      "WARNING: FITSFixedWarning: 'datfix' made the change 'Set MJD-OBS to -678575.000000 from DATE-OBS.\n",
      "Set MJD-END to 60438.153342 from DATE-END'. [astropy.wcs.wcs]\n",
      "WARNING:astropy:FITSFixedWarning: 'datfix' made the change 'Set MJD-OBS to -678575.000000 from DATE-OBS.\n",
      "Set MJD-END to 60438.153342 from DATE-END'.\n",
      "WARNING: FITSFixedWarning: 'datfix' made the change 'Set MJD-OBS to -678575.000000 from DATE-OBS.\n",
      "Set MJD-END to 60438.153689 from DATE-END'. [astropy.wcs.wcs]\n",
      "WARNING:astropy:FITSFixedWarning: 'datfix' made the change 'Set MJD-OBS to -678575.000000 from DATE-OBS.\n",
      "Set MJD-END to 60438.153689 from DATE-END'.\n",
      "WARNING: FITSFixedWarning: 'datfix' made the change 'Set MJD-OBS to -678575.000000 from DATE-OBS.\n",
      "Set MJD-END to 60438.154037 from DATE-END'. [astropy.wcs.wcs]\n",
      "WARNING:astropy:FITSFixedWarning: 'datfix' made the change 'Set MJD-OBS to -678575.000000 from DATE-OBS.\n",
      "Set MJD-END to 60438.154037 from DATE-END'.\n",
      "WARNING: FITSFixedWarning: 'datfix' made the change 'Set MJD-OBS to -678575.000000 from DATE-OBS.\n",
      "Set MJD-END to 60438.154384 from DATE-END'. [astropy.wcs.wcs]\n",
      "WARNING:astropy:FITSFixedWarning: 'datfix' made the change 'Set MJD-OBS to -678575.000000 from DATE-OBS.\n",
      "Set MJD-END to 60438.154384 from DATE-END'.\n",
      "WARNING: FITSFixedWarning: 'datfix' made the change 'Set MJD-OBS to -678575.000000 from DATE-OBS.\n",
      "Set MJD-END to 60438.154731 from DATE-END'. [astropy.wcs.wcs]\n",
      "WARNING:astropy:FITSFixedWarning: 'datfix' made the change 'Set MJD-OBS to -678575.000000 from DATE-OBS.\n",
      "Set MJD-END to 60438.154731 from DATE-END'.\n",
      "WARNING: FITSFixedWarning: 'datfix' made the change 'Set MJD-OBS to -678575.000000 from DATE-OBS.\n",
      "Set MJD-END to 60438.155078 from DATE-END'. [astropy.wcs.wcs]\n",
      "WARNING:astropy:FITSFixedWarning: 'datfix' made the change 'Set MJD-OBS to -678575.000000 from DATE-OBS.\n",
      "Set MJD-END to 60438.155078 from DATE-END'.\n"
     ]
    }
   ],
   "source": [
    "# THIS COMMENT IS THE LONGEST A LINE CAN BE AND STILL RENDER COMPLETELY WHEN PRINTING IN LANDSCAPE MODE.\n",
    "\n",
    "import os, sys\n",
    "import numpy as np\n",
    "from astropy import units as u\n",
    "from astropy.nddata import CCDData\n",
    "from astropy.io import fits\n",
    "from ccdproc import ImageFileCollection, combine, subtract_dark, flat_correct # Combiner\n",
    "import astroalign as aa\n",
    "import matplotlib.pyplot as plt\n",
    "%matplotlib inline\n",
    "from math import log10, floor\n",
    "\n",
    "home_directory = os.path.expanduser('~')\n",
    "\n",
    "# soft link to directory containing raw images\n",
    "sessions_directory = os.path.join(home_directory, '2024 SLA Sessions')\n",
    "\n",
    "uv_project_directory = os.path.join(home_directory, 'Projects', 'uv-transients')\n",
    "analysis_directory = os.path.join(uv_project_directory, 'analyses', '30s_darks')\n",
    "\n",
    "# The path to the first dark on SLA1 is D:/Raw/2024-05-08/03_38_48/Dark30s/00001.fits\n",
    "# The files to be processed need to be mirrored on the local machine\n",
    "# at ~/2024 SLA Sessions/ using the same subdirectory structure.\n",
    "capture_date = '2024-05-08'\n",
    "capture_time = '03_38_48'\n",
    "object_name = 'Dark30s'\n",
    "\n",
    "# Amount to scale the image data (typically to undo 0 padding of 12-bit to 16-bit values)\n",
    "\n",
    "scale_due_to_padding = 2**4  # This is division by 16\n",
    "\n",
    "scale_due_to_gain = 1.39  # from QHYCCD manual for gain of 5\n",
    "\n",
    "scale = scale_due_to_gain / scale_due_to_padding\n",
    "\n",
    "# threshold for flagging hot pixels\n",
    "\n",
    "threshold = 200\n",
    "\n",
    "# discontinuity limit\n",
    "\n",
    "ratio = 0.3\n",
    "\n",
    "# subdirectory for the 30-second darks (following SharpCap Pro capture directory conventions)\n",
    "dark_directory = os.path.join(\n",
    "    sessions_directory,\n",
    "    capture_date,\n",
    "    capture_time,\n",
    "    object_name\n",
    ")\n",
    "\n",
    "# exposure duration\n",
    "\n",
    "dark_exposure = 30.0\n",
    "dark_exposure_with_ccdproc_units = dark_exposure * u.second\n",
    "\n",
    "# FITS header confirmation\n",
    "\n",
    "def confirm_fits_header(image, dimensions, exposure_time, filter):\n",
    "    header = image.header\n",
    "    assert header['NAXIS1'] == dimensions[0]\n",
    "    assert header['NAXIS2'] == dimensions[1]\n",
    "    assert header['EXPTIME'] == exposure_time\n",
    "    if filter:\n",
    "        assert header['FILTER'].rstrip() == filter\n",
    "        \n",
    "# Reader with optional parameter to scale (divide) the ADU readings\n",
    "\n",
    "def scaled_image_reader(file, scale=1):\n",
    "    img = CCDData.read(file, unit=u.adu)\n",
    "    scaled_data = img.data * scale\n",
    "    img.data = scaled_data\n",
    "    return img\n",
    "\n",
    "# After all the preliminaries, we read in and combine the dark files\n",
    "\n",
    "dark_files = ImageFileCollection(dark_directory).files_filtered(include_path='True')\n",
    "\n",
    "darks = [scaled_image_reader(file, scale=scale) for file in dark_files]\n",
    "\n",
    "for dark in darks:\n",
    "    confirm_fits_header(dark, (2048, 2048), dark_exposure, None)\n",
    "\n",
    "combination_method = 'median'  # alternatively, the method can be 'average'\n",
    "\n",
    "master_dark = combine(darks, method=combination_method)\n"
   ]
  },
  {
   "cell_type": "markdown",
   "id": "76465a34",
   "metadata": {},
   "source": [
    "## Inspect the Data of the Master Dark and a Representative Dark\n",
    "\n",
    "At this point, the darks and the master_dark are observed to \n",
    "have values of order 1000 ADU, with some outliers far outside that range.\n"
   ]
  },
  {
   "cell_type": "code",
   "execution_count": 2,
   "id": "5dff390b",
   "metadata": {},
   "outputs": [
    {
     "data": {
      "text/plain": [
       "array([[5.56000000e+02, 5.34368125e+03, 3.04062500e-01, ...,\n",
       "        1.29834687e+03, 1.30108344e+03, 1.25013125e+03],\n",
       "       [4.98749375e+02, 4.98749375e+02, 1.52947781e+03, ...,\n",
       "        1.25460531e+03, 1.45228937e+03, 1.23327750e+03],\n",
       "       [1.49537937e+03, 1.55445437e+03, 1.55723438e+03, ...,\n",
       "        1.25186875e+03, 1.30108344e+03, 1.41849500e+03],\n",
       "       ...,\n",
       "       [6.95955625e+02, 7.73491562e+02, 7.24885000e+02, ...,\n",
       "        1.34695344e+03, 1.31633000e+03, 1.37132187e+03],\n",
       "       [7.66975937e+02, 7.93081875e+02, 8.24313437e+02, ...,\n",
       "        1.61109687e+03, 1.66717469e+03, 1.55719094e+03],\n",
       "       [9.09190312e+02, 1.59715344e+03, 9.83555312e+02, ...,\n",
       "        2.41773125e+03, 2.18690438e+03, 2.13873219e+03]])"
      ]
     },
     "execution_count": 2,
     "metadata": {},
     "output_type": "execute_result"
    }
   ],
   "source": [
    "# np.set_printoptions(threshold=sys.maxsize) # Uncommenting this line will cause serious I/O strain\n",
    "\n",
    "master_dark.data"
   ]
  },
  {
   "cell_type": "code",
   "execution_count": 3,
   "id": "cf4e92db",
   "metadata": {},
   "outputs": [
    {
     "data": {
      "text/plain": [
       "array([[ 556.      , 5354.80125 ,    0.      , ..., 1300.17125 ,\n",
       "        1300.17125 , 1241.27    ],\n",
       "       [ 498.749375,  498.749375, 1518.40125 , ..., 1318.0675  ,\n",
       "        1419.36375 , 1216.42375 ],\n",
       "       [1516.576875, 1583.21    , 1518.40125 , ..., 1239.5325  ,\n",
       "        1397.558125, 1410.32875 ],\n",
       "       ...,\n",
       "       [ 694.391875,  788.13    ,  712.0275  , ..., 1314.505625,\n",
       "        1383.136875, 1363.155625],\n",
       "       [ 763.718125,  794.7325  ,  825.920625, ..., 1629.775   ,\n",
       "        1672.778125, 1522.05    ],\n",
       "       [ 958.144375, 1596.24125 , 1004.014375, ..., 2470.03    ,\n",
       "        2114.19    , 2175.17625 ]])"
      ]
     },
     "execution_count": 3,
     "metadata": {},
     "output_type": "execute_result"
    }
   ],
   "source": [
    "darks[5].data"
   ]
  },
  {
   "cell_type": "markdown",
   "id": "9a85aaf4",
   "metadata": {},
   "source": [
    "## Subtract Master Dark from Darks"
   ]
  },
  {
   "cell_type": "code",
   "execution_count": 4,
   "id": "6f285a85",
   "metadata": {},
   "outputs": [],
   "source": [
    "subtracted_darks = [\n",
    "    subtract_dark(\n",
    "        dark,\n",
    "        master_dark,\n",
    "        data_exposure=dark_exposure_with_ccdproc_units,\n",
    "        dark_exposure=dark_exposure_with_ccdproc_units,\n",
    "        scale=False\n",
    "    )\n",
    "    for dark in darks\n",
    "]\n"
   ]
  },
  {
   "cell_type": "markdown",
   "id": "f52d8dc3",
   "metadata": {},
   "source": [
    "## Inspect the Data of a Representative Subtracted Dark\n",
    "\n",
    "The subtracted darks are observed to \n",
    "have values ranging from something like -50 to +50 ADU."
   ]
  },
  {
   "cell_type": "code",
   "execution_count": 5,
   "id": "a11598bb",
   "metadata": {},
   "outputs": [
    {
     "data": {
      "text/plain": [
       "array([[  0.       ,  11.12     ,  -0.3040625, ...,   1.824375 ,\n",
       "         -0.9121875,  -8.86125  ],\n",
       "       [  0.       ,   0.       , -11.0765625, ...,  63.4621875,\n",
       "        -32.925625 , -16.85375  ],\n",
       "       [ 21.1975   ,  28.755625 , -38.833125 , ..., -12.33625  ,\n",
       "         96.4746875,  -8.16625  ],\n",
       "       ...,\n",
       "       [ -1.56375  ,  14.6384375, -12.8575   , ..., -32.4478125,\n",
       "         66.806875 ,  -8.16625  ],\n",
       "       [ -3.2578125,   1.650625 ,   1.6071875, ...,  18.678125 ,\n",
       "          5.6034375, -35.1409375],\n",
       "       [ 48.9540625,  -0.9121875,  20.4590625, ...,  52.29875  ,\n",
       "        -72.714375 ,  36.4440625]])"
      ]
     },
     "execution_count": 5,
     "metadata": {},
     "output_type": "execute_result"
    }
   ],
   "source": [
    "# np.set_printoptions(threshold=sys.maxsize) # Uncommenting this line will cause serious I/O strain\n",
    "\n",
    "representative_dark_data = subtracted_darks[5].data\n",
    "representative_dark_data"
   ]
  },
  {
   "cell_type": "markdown",
   "id": "c5483a24",
   "metadata": {},
   "source": [
    "## The Routines for Locating Hot Pixel Leaders\n",
    "\n",
    "As a first cut, we will search for all pixels that exceed some threshold. These are the &ldquo;hot pixels.&rdquo;\n",
    "\n",
    "Then each hot pixel is examined to see if it is the brightest relative to its eight nearest neighbors. If it is, it is added to the list of leaders. (A small bit of tie-breaking code is incorporated.)"
   ]
  },
  {
   "cell_type": "code",
   "execution_count": 6,
   "id": "73ff074e",
   "metadata": {},
   "outputs": [],
   "source": [
    "from collections import namedtuple\n",
    "\n",
    "Pixel = namedtuple('Pixel', 'x y value')\n",
    "PSFCandidate = namedtuple('PSFCandidate', 'center neighbors')\n",
    "\n",
    "def is_winner_or_tied(candidate_leader, i, j, data):\n",
    "    return candidate_leader.value >= data[j, i]\n",
    "\n",
    "def is_leader(candidate_leader, data):\n",
    "    data_height, data_width = data.shape\n",
    "    for offset_y, offset_x in [(-1, 0), (0, 1), (1, 0), (0, -1)]:\n",
    "        j = floor(candidate_leader.y + offset_y)\n",
    "        i = floor(candidate_leader.x + offset_x)\n",
    "        if j < 0 or j >= data_height or i < 0 or i >= data_width:\n",
    "            continue\n",
    "        if not is_winner_or_tied(candidate_leader, i, j, data):\n",
    "            return False\n",
    "    return True\n",
    "\n",
    "def find_hot_pixel_leaders(data, threshold):\n",
    "    # first we simply find all the hot pixels\n",
    "    data_height, data_width = data.shape\n",
    "    exceedances = data > threshold  # an array of true-false values\n",
    "    values_of_exceedances = data[exceedances]\n",
    "    exceedance_indices = np.nonzero(exceedances)  # a crafty way of getting the indices of the exceedances\n",
    "    # all of the hot pixels are candidate leaders\n",
    "    candidate_leaders = np.transpose([exceedance_indices[1], exceedance_indices[0], values_of_exceedances])\n",
    "    leaders = []\n",
    "    for i in range(candidate_leaders.shape[0]):\n",
    "        row = candidate_leaders[i]\n",
    "        candidate_leader = Pixel(row[0], row[1], row[2])\n",
    "        if is_leader(candidate_leader, data):\n",
    "            leaders.append(candidate_leader)\n",
    "    return leaders\n"
   ]
  },
  {
   "cell_type": "markdown",
   "id": "60834df0",
   "metadata": {},
   "source": [
    "## Find the Hot Pixel Leaders\n",
    "\n",
    "Now we classify all the pixels whose values exceed the threshold as hot pixels. From among these, only the ones\n",
    "which are brighter than their four nearest neighbors are declared to be &ldquo;leaders.&rdquo;\n"
   ]
  },
  {
   "cell_type": "code",
   "execution_count": 7,
   "id": "c4126788",
   "metadata": {},
   "outputs": [],
   "source": [
    "hot_pixel_leaders = find_hot_pixel_leaders(representative_dark_data, threshold)\n"
   ]
  },
  {
   "cell_type": "markdown",
   "id": "5506f9bf",
   "metadata": {},
   "source": [
    "## The Routines for Finding PSF Candidates\n"
   ]
  },
  {
   "cell_type": "code",
   "execution_count": 8,
   "id": "cd8c7593",
   "metadata": {},
   "outputs": [],
   "source": [
    "def is_too_discontinuous(candidate_psf, i, j, data, ratio):\n",
    "    return data[j, i] < ratio * candidate_psf.value \n",
    "\n",
    "def is_candidate_psf(candidate_psf, data, ratio):\n",
    "    data_height, data_width = data.shape\n",
    "    for offset_y, offset_x in [(-1, 0), (0, 1), (1, 0), (0, -1)]:\n",
    "        j = floor(candidate_psf.y + offset_y)\n",
    "        i = floor(candidate_psf.x + offset_x)\n",
    "        if j < 0 or j >= data_height or i < 0 or i >= data_width:\n",
    "            continue\n",
    "        if is_too_discontinuous(candidate_psf, i, j, data, ratio):\n",
    "            return False\n",
    "    return True\n",
    "\n",
    "def find_psf_candidates(leaders, data, ratio):\n",
    "    candidates = [leader for leader in leaders if is_candidate_psf(leader, data, ratio)]\n",
    "    return candidates\n"
   ]
  },
  {
   "cell_type": "markdown",
   "id": "779ec9aa",
   "metadata": {},
   "source": [
    "## Find the PSF Candidates"
   ]
  },
  {
   "cell_type": "code",
   "execution_count": 9,
   "id": "98c948c1",
   "metadata": {},
   "outputs": [],
   "source": [
    "candidates = find_psf_candidates(hot_pixel_leaders, representative_dark_data, ratio)\n"
   ]
  },
  {
   "cell_type": "markdown",
   "id": "580c2bd9",
   "metadata": {},
   "source": [
    "## Display the Candidates"
   ]
  },
  {
   "cell_type": "code",
   "execution_count": 10,
   "id": "46215c66",
   "metadata": {},
   "outputs": [],
   "source": [
    "# TODO: Fix the hard-coding\n",
    "\n",
    "THIS_SHOULDNT_BE_HARD_CODED_X = 2048\n",
    "THIS_SHOULDNT_BE_HARD_CODED_Y = 2048\n",
    "\n",
    "def display_candidate(candidate, data):\n",
    "\n",
    "    lower_x = floor(candidate.x - 2)\n",
    "    upper_x = floor(lower_x + 5)\n",
    "    slice_x = slice(lower_x, upper_x)\n",
    "    lower_y = floor(candidate.y - 2)\n",
    "    upper_y = floor(lower_y + 5)\n",
    "    slice_y = slice(lower_y, upper_y)\n",
    "    \n",
    "    fig_size_x = 4\n",
    "    fig_size_y = 4\n",
    "    \n",
    "    # a bit of fussy code for dealing with display near the edges\n",
    "    \n",
    "    if (lower_x < 0):\n",
    "        lower_x = 0\n",
    "        fig_size_x *= upper_x / 5\n",
    "    elif (upper_x > THIS_SHOULDNT_BE_HARD_CODED_X):\n",
    "        upper_x = THIS_SHOULDNT_BE_HARD_CODED_X\n",
    "        fig_size_x *= (THIS_SHOULDNT_BE_HARD_CODED_X - lower_x) / 5\n",
    "\n",
    "        \n",
    "    if (lower_y < 0):\n",
    "        lower_y = 0\n",
    "        fig_size_y *= upper_y / 5\n",
    "    elif (upper_y > THIS_SHOULDNT_BE_HARD_CODED_Y):\n",
    "        upper_y = THIS_SHOULDNT_BE_HARD_CODED_Y\n",
    "        fig_size_y *= (THIS_SHOULDNT_BE_HARD_CODED_Y - lower_y) / 5\n",
    "\n",
    "    fig, axes = plt.subplots(1, 1, figsize=(fig_size_x, fig_size_y))\n",
    "\n",
    "    title = \"x={}:{}, y={}:{} around {}\".format(lower_x, upper_x - 1, lower_y, upper_y - 1, candidate)\n",
    "    \n",
    "    subframe = data[lower_y:upper_y, lower_x:upper_x]\n",
    "    \n",
    "    axes.imshow(subframe, cmap='gray')\n",
    "    axes.set_title(title, fontsize=12)\n",
    "    plt.tight_layout()\n",
    "    plt.show()\n",
    "\n",
    "    \n",
    "for candidate in candidates:\n",
    "    display_candidate(candidate, representative_dark_data)\n"
   ]
  },
  {
   "cell_type": "markdown",
   "id": "88a89b7c",
   "metadata": {},
   "source": [
    "## Inject a Candidate\n",
    "\n",
    "Since the routine finds no candidates, lets inject one at x=100, y=250, to be sure that it is working."
   ]
  },
  {
   "cell_type": "code",
   "execution_count": 11,
   "id": "36e73c97",
   "metadata": {},
   "outputs": [
    {
     "data": {
      "image/png": "[encoded data removed]",
      "text/plain": [
       "<Figure size 400x400 with 1 Axes>"
      ]
     },
     "metadata": {},
     "output_type": "display_data"
    }
   ],
   "source": [
    "injection = [\n",
    "    (150, 250, 300), # the center\n",
    "    (149, 250, 100), # neighbors\n",
    "    (151, 250, 100),\n",
    "    (150, 249, 100),\n",
    "    (150, 251, 100)\n",
    "]\n",
    "\n",
    "for row in injection:\n",
    "    representative_dark_data[row[1], row[0]] = row[2]\n",
    "\n",
    "hot_pixel_leaders = find_hot_pixel_leaders(representative_dark_data, threshold)\n",
    "\n",
    "candidates = find_psf_candidates(hot_pixel_leaders, representative_dark_data, ratio)\n",
    "\n",
    "for candidate in candidates:\n",
    "    display_candidate(candidate, representative_dark_data)\n"
   ]
  }
 ],
 "metadata": {
  "kernelspec": {
   "display_name": "Python 3 (ipykernel)",
   "language": "python",
   "name": "python3"
  },
  "language_info": {
   "codemirror_mode": {
    "name": "ipython",
    "version": 3
   },
   "file_extension": ".py",
   "mimetype": "text/x-python",
   "name": "python",
   "nbconvert_exporter": "python",
   "pygments_lexer": "ipython3",
   "version": "3.10.12"
  }
 },
 "nbformat": 4,
 "nbformat_minor": 5
}
