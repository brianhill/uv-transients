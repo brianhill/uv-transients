{
 "cells": [
  {
   "cell_type": "markdown",
   "id": "3c91c95d",
   "metadata": {},
   "source": [
    "# Test of Find PSF Candidates\n",
    "\n",
    "This notebook tests an algorithm that first finds hot pixels by demanding that they\n",
    "(a) exceed a threshold and (b) be brighter than their four nearest neighbors. These \n",
    "are the &ldquo;hot pixel leaders.&rdquo\n",
    "\n",
    "Then it culls the hot pixel leaders whose neighbors fall off too sharply using the following\n",
    "quick criterion for non-PSF-shaped regions: any hot pixel leader that has a neighbor <20% of\n",
    "the peak is not a PSF candidate.\n",
    "\n",
    "## Create the Test Data"
   ]
  },
  {
   "cell_type": "code",
   "execution_count": 1,
   "id": "8d9d239c",
   "metadata": {},
   "outputs": [],
   "source": [
    "# THIS COMMENT IS THE LONGEST A LINE CAN BE AND STILL RENDER COMPLETELY WHEN PRINTING IN LANDSCAPE MODE.\n",
    "\n",
    "import numpy as np\n",
    "import matplotlib.pyplot as plt\n",
    "from math import floor\n",
    "%matplotlib inline\n",
    "\n",
    "from collections import namedtuple\n",
    "\n",
    "Pixel = namedtuple('Pixel', 'x y value')\n",
    "PSFCandidate = namedtuple('PSFCandidate', 'center neighbors')\n",
    "\n",
    "TEST_DATA_WIDTH = 6\n",
    "TEST_DATA_HEIGHT = 4\n",
    "\n",
    "TEST_DATA = np.zeros((TEST_DATA_HEIGHT, TEST_DATA_WIDTH))\n",
    "\n",
    "NON_ZERO_PIXELS = [\n",
    "    [0, 0, 275],\n",
    "    [4, 0, 50],\n",
    "    [0, 1, 300], # PSF candidate!\n",
    "    [1, 1, 250],\n",
    "    [3, 1, 175],\n",
    "    [4, 1, 275], # A hot pixel leader that is not a candidate\n",
    "    [5, 1, 125],\n",
    "    [0, 2, 175],\n",
    "    [1, 2, 175],\n",
    "    [4, 2, 250],\n",
    "    [5, 2, 200],\n",
    "    [0, 3, 25],\n",
    "    [1, 3, 250], # A hot pixel leader that is not a candidate\n",
    "    [3, 3, 25],\n",
    "    [4, 3, 200],\n",
    "    [5, 3, 225], # PSF candidate!\n",
    "]\n",
    "\n",
    "for row in NON_ZERO_PIXELS:\n",
    "    TEST_DATA[row[1], row[0]] = row[2]\n"
   ]
  },
  {
   "cell_type": "markdown",
   "id": "83d87ff1",
   "metadata": {},
   "source": [
    "## Routines for Finding the Hot Pixel Leaders"
   ]
  },
  {
   "cell_type": "code",
   "execution_count": 2,
   "id": "73ff074e",
   "metadata": {},
   "outputs": [],
   "source": [
    "def is_winner_or_tied(candidate_leader, i, j, data):\n",
    "    return candidate_leader.value >= data[j, i]\n",
    "\n",
    "def is_leader(candidate_leader, data):\n",
    "    data_height, data_width = data.shape\n",
    "    for offset_y, offset_x in [(-1, 0), (0, 1), (1, 0), (0, -1)]:\n",
    "        j = floor(candidate_leader.y + offset_y)\n",
    "        i = floor(candidate_leader.x + offset_x)\n",
    "        if j < 0 or j >= data_height or i < 0 or i >= data_width:\n",
    "            continue\n",
    "        if not is_winner_or_tied(candidate_leader, i, j, data):\n",
    "            return False\n",
    "    return True\n",
    "\n",
    "def find_hot_pixel_leaders(data, threshold):\n",
    "    # first we simply find all the hot pixels\n",
    "    data_height, data_width = data.shape\n",
    "    exceedances = data > threshold  # an array of true-false values\n",
    "    values_of_exceedances = data[exceedances]\n",
    "    exceedance_indices = np.nonzero(exceedances)  # a crafty way of getting the indices of the exceedances\n",
    "    # all of the hot pixels are candidate leaders\n",
    "    candidate_leaders = np.transpose([exceedance_indices[1], exceedance_indices[0], values_of_exceedances])\n",
    "    leaders = []\n",
    "    for i in range(candidate_leaders.shape[0]):\n",
    "        row = candidate_leaders[i]\n",
    "        candidate_leader = Pixel(row[0], row[1], row[2])\n",
    "        if is_leader(candidate_leader, data):\n",
    "            leaders.append(candidate_leader)\n",
    "    return leaders\n"
   ]
  },
  {
   "cell_type": "markdown",
   "id": "9d39fe65",
   "metadata": {},
   "source": [
    "## Find the Hot Pixel Leaders"
   ]
  },
  {
   "cell_type": "code",
   "execution_count": 3,
   "id": "0a69afb6",
   "metadata": {},
   "outputs": [],
   "source": [
    "hot_pixel_leaders = find_hot_pixel_leaders(TEST_DATA, 200)\n"
   ]
  },
  {
   "cell_type": "markdown",
   "id": "e9d86c1f",
   "metadata": {},
   "source": [
    "## The Routines for Finding the PSF Candidates"
   ]
  },
  {
   "cell_type": "code",
   "execution_count": 4,
   "id": "dee92f91",
   "metadata": {},
   "outputs": [],
   "source": [
    "def is_too_discontinuous(candidate_psf, i, j, data, ratio):\n",
    "    return data[j, i] < ratio * candidate_psf.value \n",
    "\n",
    "def is_candidate_psf(candidate_psf, data, ratio):\n",
    "    data_height, data_width = data.shape\n",
    "    for offset_y, offset_x in [(-1, 0), (0, 1), (1, 0), (0, -1)]:\n",
    "        j = floor(candidate_psf.y + offset_y)\n",
    "        i = floor(candidate_psf.x + offset_x)\n",
    "        if j < 0 or j >= data_height or i < 0 or i >= data_width:\n",
    "            continue\n",
    "        if is_too_discontinuous(candidate_psf, i, j, data, ratio):\n",
    "            return False\n",
    "    return True\n",
    "\n",
    "def find_psf_candidates(leaders, data, ratio):\n",
    "    candidates = [leader for leader in leaders if is_candidate_psf(leader, data, ratio)]\n",
    "    return candidates\n"
   ]
  },
  {
   "cell_type": "markdown",
   "id": "77d41d4e",
   "metadata": {},
   "source": [
    "## Find the PSF Candidates"
   ]
  },
  {
   "cell_type": "code",
   "execution_count": 5,
   "id": "592d23cf",
   "metadata": {},
   "outputs": [],
   "source": [
    "candidates = find_psf_candidates(hot_pixel_leaders, TEST_DATA, 0.2)\n"
   ]
  },
  {
   "cell_type": "markdown",
   "id": "7d012930",
   "metadata": {},
   "source": [
    "## Display the Candidates"
   ]
  },
  {
   "cell_type": "code",
   "execution_count": 6,
   "id": "4025470c",
   "metadata": {},
   "outputs": [
    {
     "data": {
      "image/png": "[encoded data removed]",
      "text/plain": [
       "<Figure size 240x320 with 1 Axes>"
      ]
     },
     "metadata": {},
     "output_type": "display_data"
    },
    {
     "data": {
      "image/png": "[encoded data removed]",
      "text/plain": [
       "<Figure size 240x240 with 1 Axes>"
      ]
     },
     "metadata": {},
     "output_type": "display_data"
    }
   ],
   "source": [
    "def display_candidate(candidate, data):\n",
    "\n",
    "    lower_x = floor(candidate.x - 2)\n",
    "    upper_x = floor(lower_x + 5)\n",
    "    slice_x = slice(lower_x, upper_x)\n",
    "    lower_y = floor(candidate.y - 2)\n",
    "    upper_y = floor(lower_y + 5)\n",
    "    slice_y = slice(lower_y, upper_y)\n",
    "    \n",
    "    fig_size_x = 4\n",
    "    fig_size_y = 4\n",
    "    \n",
    "    # a bit of fussy code for dealing with display near the edges\n",
    "    \n",
    "    if (lower_x < 0):\n",
    "        lower_x = 0\n",
    "        fig_size_x *= upper_x / 5\n",
    "    elif (upper_x > 6):\n",
    "        upper_x = 6\n",
    "        fig_size_x *= (6 - lower_x) / 5\n",
    "\n",
    "        \n",
    "    if (lower_y < 0):\n",
    "        lower_y = 0\n",
    "        fig_size_y *= upper_y / 5\n",
    "    elif (upper_y > 4):\n",
    "        upper_y = 4\n",
    "        fig_size_y *= (4 - lower_y) / 5\n",
    "\n",
    "    fig, axes = plt.subplots(1, 1, figsize=(fig_size_x, fig_size_y))\n",
    "\n",
    "    title = \"x={}:{}, y={}:{} around {}\".format(lower_x, upper_x - 1, lower_y, upper_y - 1, candidate)\n",
    "    \n",
    "    subframe = data[lower_y:upper_y, lower_x:upper_x]\n",
    "    \n",
    "    axes.imshow(subframe, cmap='gray')\n",
    "    axes.set_title(title, fontsize=12)\n",
    "    plt.tight_layout()\n",
    "    plt.show()\n",
    "\n",
    "    \n",
    "for candidate in candidates:\n",
    "    display_candidate(candidate, TEST_DATA)\n"
   ]
  }
 ],
 "metadata": {
  "kernelspec": {
   "display_name": "Python 3 (ipykernel)",
   "language": "python",
   "name": "python3"
  },
  "language_info": {
   "codemirror_mode": {
    "name": "ipython",
    "version": 3
   },
   "file_extension": ".py",
   "mimetype": "text/x-python",
   "name": "python",
   "nbconvert_exporter": "python",
   "pygments_lexer": "ipython3",
   "version": "3.10.12"
  }
 },
 "nbformat": 4,
 "nbformat_minor": 5
}
