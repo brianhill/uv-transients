{
 "cells": [
  {
   "cell_type": "markdown",
   "id": "3c91c95d",
   "metadata": {},
   "source": [
    "# Test of Find PSF Candidates\n",
    "\n",
    "This notebook tests an algorithm that first finds hot pixels by demanding that they\n",
    "(a) exceed a threshold and (b) be brighter than their four nearest neighbors. These \n",
    "are the &ldquo;hot pixel leaders.&rdquo\n",
    "\n",
    "Then it culls the hot pixel leaders whose neighbors fall off too sharply using the following\n",
    "quick criterion for non-PSF-shaped regions: any hot pixel leader that has a neighbor <20% of\n",
    "the peak is not a PSF candidate.\n",
    "\n",
    "## Create the Test Data"
   ]
  },
  {
   "cell_type": "code",
   "execution_count": 1,
   "id": "8d9d239c",
   "metadata": {},
   "outputs": [],
   "source": [
    "# THIS COMMENT IS THE LONGEST A LINE CAN BE AND STILL RENDER COMPLETELY WHEN PRINTING IN LANDSCAPE MODE.\n",
    "\n",
    "import numpy as np\n",
    "import matplotlib.pyplot as plt\n",
    "from math import floor\n",
    "%matplotlib inline\n",
    "\n",
    "TEST_DATA_WIDTH = 6\n",
    "TEST_DATA_HEIGHT = 4\n",
    "\n",
    "TEST_DATA = np.zeros((TEST_DATA_HEIGHT, TEST_DATA_WIDTH))\n",
    "\n",
    "NON_ZERO_PIXELS = [\n",
    "    [0, 0, 275],\n",
    "    [4, 0, 50],\n",
    "    [0, 1, 300], # PSF candidate!\n",
    "    [1, 1, 250],\n",
    "    [3, 1, 175],\n",
    "    [4, 1, 275], # A hot pixel leader that is not a candidate\n",
    "    [5, 1, 125],\n",
    "    [0, 2, 175],\n",
    "    [1, 2, 175],\n",
    "    [4, 2, 250],\n",
    "    [5, 2, 200],\n",
    "    [0, 3, 25],\n",
    "    [1, 3, 250], # A hot pixel leader that is not a candidate\n",
    "    [3, 3, 25],\n",
    "    [4, 3, 200],\n",
    "    [5, 3, 225], # PSF candidate!\n",
    "]\n",
    "\n",
    "for row in NON_ZERO_PIXELS:\n",
    "    TEST_DATA[row[1], row[0]] = row[2]\n"
   ]
  },
  {
   "cell_type": "markdown",
   "id": "f75cab17",
   "metadata": {},
   "source": [
    "## Routines for Enumerating Neighbors"
   ]
  },
  {
   "cell_type": "code",
   "execution_count": 2,
   "id": "1c28990d",
   "metadata": {},
   "outputs": [],
   "source": [
    "from collections import namedtuple\n",
    "\n",
    "Pixel = namedtuple('Pixel', 'x y value')\n",
    "\n",
    "# Each of these routines may return fewer neighbors if the pixel is near the edge\n",
    "\n",
    "def __get_neighbors(pixel, offsets, data):\n",
    "    data_height, data_width = data.shape\n",
    "    neighbors = []\n",
    "    for offset_x, offset_y in offsets:\n",
    "        x = pixel.x + offset_x\n",
    "        y = pixel.y + offset_y\n",
    "        if x < 0 or y < 0 or x >= data_width or y >= data_height:\n",
    "            continue\n",
    "        neighbors.append(Pixel(x, y, data[y, x]))\n",
    "    return neighbors\n",
    "\n",
    "def get_four_neighbors(pixel, data):\n",
    "    offsets = [(-1, 0), (0, 1), (1, 0), (0, -1)]\n",
    "    return __get_neighbors(pixel, offsets, data)\n",
    "\n",
    "def get_eight_neighbors(pixel, data):\n",
    "    offsets = [(-1, 0), (-1, 1), (0, 1), (1, 1), (1, 0), (1, -1), (0, -1), (-1, -1)]\n",
    "    return __get_neighbors(pixel, offsets, data)\n",
    "\n",
    "def get_twelve_second_neighbors(pixel, data):\n",
    "    offsets = [(-2, 0), (-2, 1), (-1, 2), (0, 2), (1, 2), (2, 1),\n",
    "               (2, 0), (2, -1), (1, -2), (0, -2), (-1, -2), (-2, -1)]\n",
    "    return __get_neighbors(pixel, offsets, data)\n",
    "\n",
    "def get_sixteen_second_neighbors(pixel, data):\n",
    "    offsets = [(-2, 0), (-2, 1), (-2, 2), (-1, 2), (0, 2), (1, 2), (2, 2), (2, 1),\n",
    "               (2, 0), (2, -1), (2, -2), (1, -2), (0, -2), (-1, -2), (-2, -2), (-2, -1)]\n",
    "    return __get_neighbors(pixel, offsets, data)\n"
   ]
  },
  {
   "cell_type": "markdown",
   "id": "83d87ff1",
   "metadata": {},
   "source": [
    "## Routines for Finding Hot Pixel Leaders"
   ]
  },
  {
   "cell_type": "code",
   "execution_count": 3,
   "id": "73ff074e",
   "metadata": {},
   "outputs": [],
   "source": [
    "def is_winner_or_tied(candidate_leader, neighbor):\n",
    "    return candidate_leader.value >= neighbor.value\n",
    "\n",
    "def is_leader(candidate_leader, data):\n",
    "    four_neighbors = get_four_neighbors(candidate_leader, data)\n",
    "    for neighbor in four_neighbors:\n",
    "        if not is_winner_or_tied(candidate_leader, neighbor):\n",
    "            return False\n",
    "    return True\n",
    "\n",
    "def find_hot_pixel_leaders(data, threshold):\n",
    "    # first we simply find all the hot pixels\n",
    "    data_height, data_width = data.shape\n",
    "    exceedances = data > threshold  # an array of true-false values\n",
    "    values_of_exceedances = data[exceedances]\n",
    "    exceedance_indices = np.nonzero(exceedances)  # a crafty way of getting the indices of the exceedances\n",
    "    # all of the hot pixels are candidate leaders\n",
    "    candidate_leaders = np.transpose([exceedance_indices[1], exceedance_indices[0], values_of_exceedances])\n",
    "    leaders = []\n",
    "    for i in range(candidate_leaders.shape[0]):\n",
    "        row = candidate_leaders[i]\n",
    "        candidate_leader = Pixel(floor(row[0]), floor(row[1]), row[2])\n",
    "        if is_leader(candidate_leader, data):\n",
    "            leaders.append(candidate_leader)\n",
    "    return leaders\n"
   ]
  },
  {
   "cell_type": "markdown",
   "id": "9d39fe65",
   "metadata": {},
   "source": [
    "## Find the Hot Pixel Leaders"
   ]
  },
  {
   "cell_type": "code",
   "execution_count": 4,
   "id": "0a69afb6",
   "metadata": {},
   "outputs": [],
   "source": [
    "hot_pixel_leaders = find_hot_pixel_leaders(TEST_DATA, 200)\n"
   ]
  },
  {
   "cell_type": "markdown",
   "id": "e9d86c1f",
   "metadata": {},
   "source": [
    "## Routines for Finding PSF Candidates"
   ]
  },
  {
   "cell_type": "code",
   "execution_count": 5,
   "id": "dee92f91",
   "metadata": {},
   "outputs": [],
   "source": [
    "def is_too_large(pixel, neighbor, ratio):\n",
    "    return ratio * pixel.value > neighbor.value\n",
    "\n",
    "def is_in_continuous_region(pixel, data, ratio, recurse=False):\n",
    "    four_neighbors = get_four_neighbors(pixel, data)\n",
    "    for neighbor in four_neighbors:\n",
    "        if is_too_large(pixel, neighbor, ratio):\n",
    "            return False\n",
    "    if recurse:\n",
    "        eight_neighbors = get_eight_neighbors(pixel, data)\n",
    "        twelve_second_neighbors = get_twelve_second_neighbors(pixel, data)\n",
    "        surrounding_region = eight_neighbors + twelve_second_neighbors\n",
    "        for neighbor in surrounding_region:\n",
    "            if not is_in_continuous_region(neighbor, data, ratio, recurse=False):\n",
    "                return False\n",
    "    return True\n",
    "\n",
    "def find_psf_candidates(leaders, data, ratio):\n",
    "    candidates = [leader for leader in leaders if is_in_continuous_region(leader, data, ratio, recurse=True)]\n",
    "    return candidates\n"
   ]
  },
  {
   "cell_type": "markdown",
   "id": "77d41d4e",
   "metadata": {},
   "source": [
    "## Find the PSF Candidates"
   ]
  },
  {
   "cell_type": "code",
   "execution_count": 6,
   "id": "592d23cf",
   "metadata": {},
   "outputs": [],
   "source": [
    "candidates = find_psf_candidates(hot_pixel_leaders, TEST_DATA, 0.2)\n"
   ]
  },
  {
   "cell_type": "markdown",
   "id": "7d012930",
   "metadata": {},
   "source": [
    "## Routine for Displaying PSF Candidates"
   ]
  },
  {
   "cell_type": "code",
   "execution_count": 7,
   "id": "24854956",
   "metadata": {},
   "outputs": [],
   "source": [
    "DISPLAY_HALF_RANGE = 3\n",
    "DISPLAY_FULL_RANGE = 2 * DISPLAY_HALF_RANGE + 1\n",
    "\n",
    "def display_candidate(candidate, data):\n",
    "    \n",
    "    data_height, data_width = data.shape\n",
    "\n",
    "    lower_x = floor(candidate.x - DISPLAY_HALF_RANGE)\n",
    "    upper_x = floor(lower_x + DISPLAY_FULL_RANGE)\n",
    "    slice_x = slice(lower_x, upper_x)\n",
    "    lower_y = floor(candidate.y - DISPLAY_HALF_RANGE)\n",
    "    upper_y = floor(lower_y + DISPLAY_FULL_RANGE)\n",
    "    slice_y = slice(lower_y, upper_y)\n",
    "    \n",
    "    fig_size_x = 4\n",
    "    fig_size_y = 4\n",
    "    \n",
    "    # a bit of fussy code for dealing with display near the edges\n",
    "    # check x edges\n",
    "    if (lower_x < 0):\n",
    "        lower_x = 0\n",
    "        fig_size_x *= upper_x / DISPLAY_FULL_RANGE\n",
    "    elif (upper_x > data_width):\n",
    "        upper_x = data_width\n",
    "        fig_size_x *= (data_width - lower_x) / DISPLAY_FULL_RANGE\n",
    "    # check y edges\n",
    "    if (lower_y < 0):\n",
    "        lower_y = 0\n",
    "        fig_size_y *= upper_y / DISPLAY_FULL_RANGE\n",
    "    elif (upper_y > data_height):\n",
    "        upper_y = data_height\n",
    "        fig_size_y *= (data_height - lower_y) / DISPLAY_FULL_RANGE\n",
    "\n",
    "    fig, axes = plt.subplots(1, 1, figsize=(fig_size_x, fig_size_y))\n",
    "    \n",
    "    print(\"{} is a PSF candidate with neighbor values:\".format(candidate))\n",
    "    \n",
    "    for offset_y, offset_x in [(-1, 0), (0, 1), (1, 0), (0, -1)]:\n",
    "        j = floor(candidate.y + offset_y)\n",
    "        i = floor(candidate.x + offset_x)\n",
    "        if j < 0 or j >= data_height or i < 0 or i >= data_width:\n",
    "            continue\n",
    "        print(\"    x={}, y={}, value={}\".format(i, j, data[j][i]))\n",
    "    \n",
    "    title = \"PSF candidate at ({}, {})\".format(candidate.x, candidate.y)\n",
    "    \n",
    "    subframe = data[lower_y:upper_y, lower_x:upper_x]\n",
    "    \n",
    "    axes.imshow(subframe, cmap='gray')\n",
    "    axes.set_title(title, fontsize=12)\n",
    "    axes.set_xlabel('x={}:{}'.format(lower_x, upper_x - 1))\n",
    "    axes.set_ylabel('y={}:{}'.format(lower_y, upper_y - 1))\n",
    "    axes.invert_yaxis()\n",
    "    plt.tight_layout()\n",
    "    plt.show()\n"
   ]
  },
  {
   "cell_type": "markdown",
   "id": "48e6f911",
   "metadata": {},
   "source": [
    "## Display the PSF Candidates"
   ]
  },
  {
   "cell_type": "code",
   "execution_count": 8,
   "id": "4025470c",
   "metadata": {},
   "outputs": [],
   "source": [
    "for candidate in candidates:\n",
    "    display_candidate(candidate, TEST_DATA)\n"
   ]
  }
 ],
 "metadata": {
  "kernelspec": {
   "display_name": "Python 3 (ipykernel)",
   "language": "python",
   "name": "python3"
  },
  "language_info": {
   "codemirror_mode": {
    "name": "ipython",
    "version": 3
   },
   "file_extension": ".py",
   "mimetype": "text/x-python",
   "name": "python",
   "nbconvert_exporter": "python",
   "pygments_lexer": "ipython3",
   "version": "3.10.12"
  }
 },
 "nbformat": 4,
 "nbformat_minor": 5
}
