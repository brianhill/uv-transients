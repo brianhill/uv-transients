{
 "cells": [
  {
   "cell_type": "markdown",
   "id": "3c91c95d",
   "metadata": {},
   "source": [
    "# SLA1 Camera Characterization\n",
    "\n",
    "## Testing `ccdproc.combine()` and `ccdproc.subtract()`\n",
    "\n",
    "On May 8, 2024 (UTC) we took various dark exposures with the [QHY42 Pro](https://www.qhyccd.com/qhy42pro/) camera.\n",
    "\n",
    "As they are read in, the darks are scaled to undo zero padding (divided by 16) and the effect of gain (multiplied by 1.39).\n",
    "\n",
    "They are then combined into a master dark.\n",
    "\n",
    "## Read in and Rescale the Darks\n"
   ]
  },
  {
   "cell_type": "code",
   "execution_count": 1,
   "id": "8d9d239c",
   "metadata": {},
   "outputs": [
    {
     "name": "stderr",
     "output_type": "stream",
     "text": [
      "WARNING: FITSFixedWarning: 'datfix' made the change 'Set MJD-OBS to -678575.000000 from DATE-OBS.\n",
      "Set MJD-END to 60438.151953 from DATE-END'. [astropy.wcs.wcs]\n",
      "WARNING:astropy:FITSFixedWarning: 'datfix' made the change 'Set MJD-OBS to -678575.000000 from DATE-OBS.\n",
      "Set MJD-END to 60438.151953 from DATE-END'.\n",
      "WARNING: FITSFixedWarning: 'datfix' made the change 'Set MJD-OBS to -678575.000000 from DATE-OBS.\n",
      "Set MJD-END to 60438.152301 from DATE-END'. [astropy.wcs.wcs]\n",
      "WARNING:astropy:FITSFixedWarning: 'datfix' made the change 'Set MJD-OBS to -678575.000000 from DATE-OBS.\n",
      "Set MJD-END to 60438.152301 from DATE-END'.\n",
      "WARNING: FITSFixedWarning: 'datfix' made the change 'Set MJD-OBS to -678575.000000 from DATE-OBS.\n",
      "Set MJD-END to 60438.152648 from DATE-END'. [astropy.wcs.wcs]\n",
      "WARNING:astropy:FITSFixedWarning: 'datfix' made the change 'Set MJD-OBS to -678575.000000 from DATE-OBS.\n",
      "Set MJD-END to 60438.152648 from DATE-END'.\n",
      "WARNING: FITSFixedWarning: 'datfix' made the change 'Set MJD-OBS to -678575.000000 from DATE-OBS.\n",
      "Set MJD-END to 60438.152995 from DATE-END'. [astropy.wcs.wcs]\n",
      "WARNING:astropy:FITSFixedWarning: 'datfix' made the change 'Set MJD-OBS to -678575.000000 from DATE-OBS.\n",
      "Set MJD-END to 60438.152995 from DATE-END'.\n",
      "WARNING: FITSFixedWarning: 'datfix' made the change 'Set MJD-OBS to -678575.000000 from DATE-OBS.\n",
      "Set MJD-END to 60438.153342 from DATE-END'. [astropy.wcs.wcs]\n",
      "WARNING:astropy:FITSFixedWarning: 'datfix' made the change 'Set MJD-OBS to -678575.000000 from DATE-OBS.\n",
      "Set MJD-END to 60438.153342 from DATE-END'.\n",
      "WARNING: FITSFixedWarning: 'datfix' made the change 'Set MJD-OBS to -678575.000000 from DATE-OBS.\n",
      "Set MJD-END to 60438.153689 from DATE-END'. [astropy.wcs.wcs]\n",
      "WARNING:astropy:FITSFixedWarning: 'datfix' made the change 'Set MJD-OBS to -678575.000000 from DATE-OBS.\n",
      "Set MJD-END to 60438.153689 from DATE-END'.\n",
      "WARNING: FITSFixedWarning: 'datfix' made the change 'Set MJD-OBS to -678575.000000 from DATE-OBS.\n",
      "Set MJD-END to 60438.154037 from DATE-END'. [astropy.wcs.wcs]\n",
      "WARNING:astropy:FITSFixedWarning: 'datfix' made the change 'Set MJD-OBS to -678575.000000 from DATE-OBS.\n",
      "Set MJD-END to 60438.154037 from DATE-END'.\n",
      "WARNING: FITSFixedWarning: 'datfix' made the change 'Set MJD-OBS to -678575.000000 from DATE-OBS.\n",
      "Set MJD-END to 60438.154384 from DATE-END'. [astropy.wcs.wcs]\n",
      "WARNING:astropy:FITSFixedWarning: 'datfix' made the change 'Set MJD-OBS to -678575.000000 from DATE-OBS.\n",
      "Set MJD-END to 60438.154384 from DATE-END'.\n",
      "WARNING: FITSFixedWarning: 'datfix' made the change 'Set MJD-OBS to -678575.000000 from DATE-OBS.\n",
      "Set MJD-END to 60438.154731 from DATE-END'. [astropy.wcs.wcs]\n",
      "WARNING:astropy:FITSFixedWarning: 'datfix' made the change 'Set MJD-OBS to -678575.000000 from DATE-OBS.\n",
      "Set MJD-END to 60438.154731 from DATE-END'.\n",
      "WARNING: FITSFixedWarning: 'datfix' made the change 'Set MJD-OBS to -678575.000000 from DATE-OBS.\n",
      "Set MJD-END to 60438.155078 from DATE-END'. [astropy.wcs.wcs]\n",
      "WARNING:astropy:FITSFixedWarning: 'datfix' made the change 'Set MJD-OBS to -678575.000000 from DATE-OBS.\n",
      "Set MJD-END to 60438.155078 from DATE-END'.\n"
     ]
    }
   ],
   "source": [
    "# THIS COMMENT IS THE LONGEST A LINE CAN BE AND STILL RENDER COMPLETELY WHEN PRINTING IN LANDSCAPE MODE.\n",
    "\n",
    "import os, sys\n",
    "import numpy as np\n",
    "from astropy import units as u\n",
    "from astropy.nddata import CCDData\n",
    "from astropy.io import fits\n",
    "from ccdproc import ImageFileCollection, combine, subtract_dark, flat_correct # Combiner\n",
    "import astroalign as aa\n",
    "import matplotlib.pyplot as plt\n",
    "%matplotlib inline\n",
    "from math import log10, floor\n",
    "\n",
    "home_directory = os.path.expanduser('~')\n",
    "\n",
    "# soft link to directory containing raw images\n",
    "sessions_directory = os.path.join(home_directory, '2024 SLA Sessions')\n",
    "\n",
    "uv_project_directory = os.path.join(home_directory, 'Projects', 'uv-transients')\n",
    "analysis_directory = os.path.join(uv_project_directory, 'analyses', '30s_darks')\n",
    "\n",
    "# The path to the first dark on SLA1 is D:/Raw/2024-05-08/03_38_48/Dark30s/00001.fits\n",
    "# The files to be processed need to be mirrored on the local machine\n",
    "# at ~/2024 SLA Sessions/ using the same subdirectory structure.\n",
    "capture_date = '2024-05-08'\n",
    "capture_time = '03_38_48'\n",
    "object_name = 'Dark30s'\n",
    "\n",
    "# Amount to scale the image data (typically to undo 0 padding of 12-bit to 16-bit values)\n",
    "\n",
    "scale_due_to_padding = 2**4  # This is division by 16\n",
    "\n",
    "scale_due_to_gain = 1.39  # from QHYCCD manual for gain of 5\n",
    "\n",
    "scale = scale_due_to_gain / scale_due_to_padding\n",
    "\n",
    "# threshold for flagging hot pixels\n",
    "\n",
    "threshold = 200\n",
    "\n",
    "# subdirectory for the 30-second darks (following SharpCap Pro capture directory conventions)\n",
    "dark_directory = os.path.join(\n",
    "    sessions_directory,\n",
    "    capture_date,\n",
    "    capture_time,\n",
    "    object_name\n",
    ")\n",
    "\n",
    "# exposure duration\n",
    "\n",
    "dark_exposure = 30.0\n",
    "dark_exposure_with_ccdproc_units = dark_exposure * u.second\n",
    "\n",
    "# FITS header confirmation\n",
    "\n",
    "def confirm_fits_header(image, dimensions, exposure_time, filter):\n",
    "    header = image.header\n",
    "    assert header['NAXIS1'] == dimensions[0]\n",
    "    assert header['NAXIS2'] == dimensions[1]\n",
    "    assert header['EXPTIME'] == exposure_time\n",
    "    if filter:\n",
    "        assert header['FILTER'].rstrip() == filter\n",
    "        \n",
    "# Reader with optional parameter to scale (divide) the ADU readings\n",
    "\n",
    "def scaled_image_reader(file, scale=1):\n",
    "    img = CCDData.read(file, unit=u.adu)\n",
    "    scaled_data = img.data * scale\n",
    "    img.data = scaled_data\n",
    "    return img\n",
    "\n",
    "# After all the preliminaries, we read in and combine the dark files\n",
    "\n",
    "dark_files = ImageFileCollection(dark_directory).files_filtered(include_path='True')\n",
    "\n",
    "darks = [scaled_image_reader(file, scale=scale) for file in dark_files]\n",
    "\n",
    "for dark in darks:\n",
    "    confirm_fits_header(dark, (2048, 2048), dark_exposure, None)\n"
   ]
  },
  {
   "cell_type": "markdown",
   "id": "9172b226",
   "metadata": {},
   "source": [
    "## Inspect the Individual Darks"
   ]
  },
  {
   "cell_type": "code",
   "execution_count": 2,
   "id": "31a16d04",
   "metadata": {},
   "outputs": [
    {
     "name": "stdout",
     "output_type": "stream",
     "text": [
      "dark from file /Users/brian/2024 SLA Sessions/2024-05-08/03_38_48/Dark30s/00001.fits\n",
      "[[5.56000000e+02 5.24360125e+03 2.60625000e-01 0.00000000e+00]\n",
      " [4.98749375e+02 4.98749375e+02 1.54055437e+03 1.63715937e+03]\n",
      " [1.50919250e+03 1.54793875e+03 1.58685875e+03 1.67651375e+03]\n",
      " [1.53499437e+03 1.47426875e+03 1.65974687e+03 2.10446000e+03]]\n",
      "dark from file /Users/brian/2024 SLA Sessions/2024-05-08/03_38_48/Dark30s/00002.fits\n",
      "[[5.56000000e+02 5.26584125e+03 3.47500000e-01 0.00000000e+00]\n",
      " [4.98749375e+02 4.98749375e+02 1.53317000e+03 1.61292125e+03]\n",
      " [1.45046500e+03 1.53317000e+03 1.55541000e+03 1.67277812e+03]\n",
      " [1.35229625e+03 1.51284125e+03 1.61292125e+03 2.15154625e+03]]\n",
      "dark from file /Users/brian/2024 SLA Sessions/2024-05-08/03_38_48/Dark30s/00003.fits\n",
      "[[5.56000000e+02 5.28808125e+03 4.34375000e-01 0.00000000e+00]\n",
      " [4.98749375e+02 4.98749375e+02 1.54611437e+03 1.55167437e+03]\n",
      " [1.48156625e+03 1.56461875e+03 1.52387437e+03 1.72933375e+03]\n",
      " [1.40311812e+03 1.51657687e+03 1.63715937e+03 2.04781750e+03]]\n",
      "dark from file /Users/brian/2024 SLA Sessions/2024-05-08/03_38_48/Dark30s/00004.fits\n",
      "[[5.56000000e+02 5.31032125e+03 5.21250000e-01 0.00000000e+00]\n",
      " [4.98749375e+02 4.98749375e+02 1.52387437e+03 1.57947437e+03]\n",
      " [1.49633500e+03 1.47791750e+03 1.51840125e+03 1.65401312e+03]\n",
      " [1.45046500e+03 1.46506000e+03 1.60362562e+03 2.09073375e+03]]\n",
      "dark from file /Users/brian/2024 SLA Sessions/2024-05-08/03_38_48/Dark30s/00005.fits\n",
      "[[5.56000000e+02 5.33256125e+03 6.08125000e-01 0.00000000e+00]\n",
      " [4.98749375e+02 4.98749375e+02 1.51475250e+03 1.60180125e+03]\n",
      " [1.49998375e+03 1.58321000e+03 1.55905875e+03 1.71612875e+03]\n",
      " [1.46506000e+03 1.50728125e+03 1.58321000e+03 2.03218000e+03]]\n",
      "dark from file /Users/brian/2024 SLA Sessions/2024-05-08/03_38_48/Dark30s/00006.fits\n",
      "[[ 556.       5354.80125     0.          0.      ]\n",
      " [ 498.749375  498.749375 1518.40125  1594.416875]\n",
      " [1516.576875 1583.21     1518.40125  1684.15875 ]\n",
      " [1490.775    1472.444375 1620.479375 2043.908125]]\n",
      "dark from file /Users/brian/2024 SLA Sessions/2024-05-08/03_38_48/Dark30s/00007.fits\n",
      "[[5.56000000e+02 5.37704125e+03 8.68750000e-02 0.00000000e+00]\n",
      " [4.98749375e+02 4.98749375e+02 1.52578562e+03 1.60918562e+03]\n",
      " [1.45593812e+03 1.55541000e+03 1.55349875e+03 1.65774875e+03]\n",
      " [1.46697125e+03 1.47609312e+03 1.62603937e+03 2.13973125e+03]]\n",
      "dark from file /Users/brian/2024 SLA Sessions/2024-05-08/03_38_48/Dark30s/00008.fits\n",
      "[[5.56000000e+02 5.39928125e+03 1.73750000e-01 0.00000000e+00]\n",
      " [4.98749375e+02 4.98749375e+02 1.52022562e+03 1.54420312e+03]\n",
      " [1.51475250e+03 1.55349875e+03 1.58321000e+03 1.62977500e+03]\n",
      " [1.50180812e+03 1.44681625e+03 1.59441687e+03 2.03617625e+03]]\n",
      "dark from file /Users/brian/2024 SLA Sessions/2024-05-08/03_38_48/Dark30s/00009.fits\n",
      "[[5.56000000e+02 5.42152125e+03 2.60625000e-01 0.00000000e+00]\n",
      " [4.98749375e+02 4.98749375e+02 1.58685875e+03 1.55541000e+03]\n",
      " [1.49442375e+03 1.59059437e+03 1.58503437e+03 1.72360000e+03]\n",
      " [1.49442375e+03 1.45958687e+03 1.63915750e+03 2.13773312e+03]]\n",
      "dark from file /Users/brian/2024 SLA Sessions/2024-05-08/03_38_48/Dark30s/00010.fits\n",
      "[[5.56000000e+02 5.44376125e+03 3.47500000e-01 0.00000000e+00]\n",
      " [4.98749375e+02 4.98749375e+02 1.58877000e+03 1.56279437e+03]\n",
      " [1.46879562e+03 1.48712625e+03 1.58321000e+03 1.73124500e+03]\n",
      " [1.46506000e+03 1.54420312e+03 1.61109687e+03 2.03999875e+03]]\n"
     ]
    }
   ],
   "source": [
    "for i in range(len(darks)):\n",
    "    print('dark from file {}'.format(dark_files[i]))\n",
    "    print(darks[i].data[0:4, 0:4])"
   ]
  },
  {
   "cell_type": "markdown",
   "id": "cf4719f5",
   "metadata": {},
   "source": [
    "## Combine the Darks into a Master Dark"
   ]
  },
  {
   "cell_type": "code",
   "execution_count": 3,
   "id": "4ed4a1aa",
   "metadata": {},
   "outputs": [],
   "source": [
    "combination_method = 'median'  # alternatively, the method can be 'average'\n",
    "\n",
    "master_dark = combine(darks, method=combination_method)\n"
   ]
  },
  {
   "cell_type": "markdown",
   "id": "76465a34",
   "metadata": {},
   "source": [
    "## Inspect the Data of the Master Dark"
   ]
  },
  {
   "cell_type": "code",
   "execution_count": 4,
   "id": "5dff390b",
   "metadata": {},
   "outputs": [
    {
     "data": {
      "text/plain": [
       "array([[5.56000000e+02, 5.34368125e+03, 3.04062500e-01, 0.00000000e+00],\n",
       "       [4.98749375e+02, 4.98749375e+02, 1.52947781e+03, 1.58694562e+03],\n",
       "       [1.49537937e+03, 1.55445437e+03, 1.55723438e+03, 1.68033625e+03],\n",
       "       [1.46601562e+03, 1.47518094e+03, 1.61670031e+03, 2.06927562e+03]])"
      ]
     },
     "execution_count": 4,
     "metadata": {},
     "output_type": "execute_result"
    }
   ],
   "source": [
    "# np.set_printoptions(threshold=sys.maxsize) # Uncommenting this line will cause serious I/O strain\n",
    "\n",
    "master_dark.data[0:4, 0:4]\n"
   ]
  },
  {
   "cell_type": "markdown",
   "id": "cfa4f4f2",
   "metadata": {},
   "source": [
    "### Are the Master Dark Pixel Values as Expected?\n",
    "\n",
    "Yes, checked by hand with the data below."
   ]
  },
  {
   "cell_type": "code",
   "execution_count": 5,
   "id": "fa57624b",
   "metadata": {},
   "outputs": [
    {
     "name": "stdout",
     "output_type": "stream",
     "text": [
      "for master dark\n",
      "pixel[0, 1] (x = 1, y = 0) = 5343.68125\n",
      "for dark /Users/brian/2024 SLA Sessions/2024-05-08/03_38_48/Dark30s/00001.fits\n",
      "pixel[0, 1] (x = 1, y = 0) = 5243.60125\n",
      "for dark /Users/brian/2024 SLA Sessions/2024-05-08/03_38_48/Dark30s/00002.fits\n",
      "pixel[0, 1] (x = 1, y = 0) = 5265.8412499999995\n",
      "for dark /Users/brian/2024 SLA Sessions/2024-05-08/03_38_48/Dark30s/00003.fits\n",
      "pixel[0, 1] (x = 1, y = 0) = 5288.081249999999\n",
      "for dark /Users/brian/2024 SLA Sessions/2024-05-08/03_38_48/Dark30s/00004.fits\n",
      "pixel[0, 1] (x = 1, y = 0) = 5310.32125\n",
      "for dark /Users/brian/2024 SLA Sessions/2024-05-08/03_38_48/Dark30s/00005.fits\n",
      "pixel[0, 1] (x = 1, y = 0) = 5332.56125\n",
      "for dark /Users/brian/2024 SLA Sessions/2024-05-08/03_38_48/Dark30s/00006.fits\n",
      "pixel[0, 1] (x = 1, y = 0) = 5354.8012499999995\n",
      "for dark /Users/brian/2024 SLA Sessions/2024-05-08/03_38_48/Dark30s/00007.fits\n",
      "pixel[0, 1] (x = 1, y = 0) = 5377.041249999999\n",
      "for dark /Users/brian/2024 SLA Sessions/2024-05-08/03_38_48/Dark30s/00008.fits\n",
      "pixel[0, 1] (x = 1, y = 0) = 5399.28125\n",
      "for dark /Users/brian/2024 SLA Sessions/2024-05-08/03_38_48/Dark30s/00009.fits\n",
      "pixel[0, 1] (x = 1, y = 0) = 5421.52125\n",
      "for dark /Users/brian/2024 SLA Sessions/2024-05-08/03_38_48/Dark30s/00010.fits\n",
      "pixel[0, 1] (x = 1, y = 0) = 5443.76125\n"
     ]
    }
   ],
   "source": [
    "print('for master dark')\n",
    "print('pixel[0, 1] (x = 1, y = 0) = {}'.format(master_dark.data[0, 1]))\n",
    "\n",
    "for i in range(len(darks)):\n",
    "    print('for dark {}'.format(dark_files[i]))\n",
    "    print('pixel[0, 1] (x = 1, y = 0) = {}'.format(darks[i].data[0, 1]))"
   ]
  },
  {
   "cell_type": "markdown",
   "id": "270a3794",
   "metadata": {},
   "source": [
    "## Subtract the Darks"
   ]
  },
  {
   "cell_type": "code",
   "execution_count": 6,
   "id": "2d4957e0",
   "metadata": {},
   "outputs": [],
   "source": [
    "subtracted_darks = [\n",
    "    subtract_dark(\n",
    "        dark,\n",
    "        master_dark,\n",
    "        data_exposure=dark_exposure_with_ccdproc_units,\n",
    "        dark_exposure=dark_exposure_with_ccdproc_units,\n",
    "        scale=False\n",
    "    )\n",
    "    for dark in darks\n",
    "]\n"
   ]
  },
  {
   "cell_type": "markdown",
   "id": "fba510d8",
   "metadata": {},
   "source": [
    "### Are the Subtracted Pixel Values as Expected"
   ]
  },
  {
   "cell_type": "code",
   "execution_count": 7,
   "id": "c61aa5cb",
   "metadata": {},
   "outputs": [
    {
     "name": "stdout",
     "output_type": "stream",
     "text": [
      "for master dark\n",
      "pixel[0, 1] (x = 1, y = 0) = 5343.68125\n",
      "for subtracted dark /Users/brian/2024 SLA Sessions/2024-05-08/03_38_48/Dark30s/00001.fits\n",
      "pixel[0, 1] (x = 1, y = 0) = -100.07999999999993\n",
      "for subtracted dark /Users/brian/2024 SLA Sessions/2024-05-08/03_38_48/Dark30s/00002.fits\n",
      "pixel[0, 1] (x = 1, y = 0) = -77.84000000000015\n",
      "for subtracted dark /Users/brian/2024 SLA Sessions/2024-05-08/03_38_48/Dark30s/00003.fits\n",
      "pixel[0, 1] (x = 1, y = 0) = -55.600000000000364\n",
      "for subtracted dark /Users/brian/2024 SLA Sessions/2024-05-08/03_38_48/Dark30s/00004.fits\n",
      "pixel[0, 1] (x = 1, y = 0) = -33.35999999999967\n",
      "for subtracted dark /Users/brian/2024 SLA Sessions/2024-05-08/03_38_48/Dark30s/00005.fits\n",
      "pixel[0, 1] (x = 1, y = 0) = -11.11999999999989\n",
      "for subtracted dark /Users/brian/2024 SLA Sessions/2024-05-08/03_38_48/Dark30s/00006.fits\n",
      "pixel[0, 1] (x = 1, y = 0) = 11.11999999999989\n",
      "for subtracted dark /Users/brian/2024 SLA Sessions/2024-05-08/03_38_48/Dark30s/00007.fits\n",
      "pixel[0, 1] (x = 1, y = 0) = 33.35999999999967\n",
      "for subtracted dark /Users/brian/2024 SLA Sessions/2024-05-08/03_38_48/Dark30s/00008.fits\n",
      "pixel[0, 1] (x = 1, y = 0) = 55.600000000000364\n",
      "for subtracted dark /Users/brian/2024 SLA Sessions/2024-05-08/03_38_48/Dark30s/00009.fits\n",
      "pixel[0, 1] (x = 1, y = 0) = 77.84000000000015\n",
      "for subtracted dark /Users/brian/2024 SLA Sessions/2024-05-08/03_38_48/Dark30s/00010.fits\n",
      "pixel[0, 1] (x = 1, y = 0) = 100.07999999999993\n"
     ]
    }
   ],
   "source": [
    "print('for master dark')\n",
    "print('pixel[0, 1] (x = 1, y = 0) = {}'.format(master_dark.data[0, 1]))\n",
    "\n",
    "for i in range(len(darks)):\n",
    "    print('for subtracted dark {}'.format(dark_files[i]))\n",
    "    print('pixel[0, 1] (x = 1, y = 0) = {}'.format(subtracted_darks[i].data[0, 1]))\n"
   ]
  }
 ],
 "metadata": {
  "kernelspec": {
   "display_name": "Python 3 (ipykernel)",
   "language": "python",
   "name": "python3"
  },
  "language_info": {
   "codemirror_mode": {
    "name": "ipython",
    "version": 3
   },
   "file_extension": ".py",
   "mimetype": "text/x-python",
   "name": "python",
   "nbconvert_exporter": "python",
   "pygments_lexer": "ipython3",
   "version": "3.10.12"
  }
 },
 "nbformat": 4,
 "nbformat_minor": 5
}
