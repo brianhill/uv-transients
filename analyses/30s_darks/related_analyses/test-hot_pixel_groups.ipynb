{
 "cells": [
  {
   "cell_type": "markdown",
   "id": "3c91c95d",
   "metadata": {},
   "source": [
    "# Test Hot Pixel Groups\n",
    "\n",
    "This notebook tests an algorithm that finds hot pixels, and organizes them into hot pixel groups.\n",
    "\n",
    "## Create the Test Data"
   ]
  },
  {
   "cell_type": "code",
   "execution_count": 1,
   "id": "8d9d239c",
   "metadata": {},
   "outputs": [
    {
     "data": {
      "text/plain": [
       "array([[275.,   0.,   0., 275.,   0.,   0.],\n",
       "       [300., 250.,   0.,   0., 275.,   0.],\n",
       "       [  0.,   0.,   0., 225., 250., 225.],\n",
       "       [  0., 250.,   0.,   0.,   0., 325.]])"
      ]
     },
     "execution_count": 1,
     "metadata": {},
     "output_type": "execute_result"
    }
   ],
   "source": [
    "# THIS COMMENT IS THE LONGEST A LINE CAN BE AND STILL RENDER COMPLETELY WHEN PRINTING IN LANDSCAPE MODE.\n",
    "\n",
    "import numpy as np\n",
    "import matplotlib.pyplot as plt\n",
    "%matplotlib inline\n",
    "\n",
    "from collections import namedtuple\n",
    "\n",
    "HotPixel = namedtuple('HotPixel', 'x y value')\n",
    "HotPixelGroup = namedtuple('HotPixelGroup', 'leader_index hot_pixels')\n",
    "\n",
    "TEST_DATA_WIDTH = 6\n",
    "TEST_DATA_HEIGHT = 4\n",
    "\n",
    "TEST_DATA = np.zeros((TEST_DATA_HEIGHT, TEST_DATA_WIDTH))\n",
    "\n",
    "TEST_HOT_PIXEL_GROUPS = [\n",
    "    HotPixelGroup(1, [\n",
    "        HotPixel(0, 0, 275), \n",
    "        HotPixel(0, 1, 300), # Group leader\n",
    "        HotPixel(1, 1, 250)\n",
    "    ]),\n",
    "    HotPixelGroup(1, [\n",
    "        HotPixel(3, 0, 275),\n",
    "        HotPixel(4, 1, 275), # Group leader that tests tie-breaking algorithm\n",
    "        HotPixel(3, 2, 225),\n",
    "        HotPixel(4, 2, 250),\n",
    "        HotPixel(5, 2, 225),\n",
    "        HotPixel(5, 3, 325)\n",
    "    ]),\n",
    "    HotPixelGroup(0, [\n",
    "        HotPixel(1, 3, 250)  # Isolated hot pixel\n",
    "    ]),\n",
    "    HotPixelGroup(5, [\n",
    "        HotPixel(3, 0, 275), # Note that this group of six pixels is the same as one of the above\n",
    "        HotPixel(4, 1, 275),\n",
    "        HotPixel(3, 2, 225),\n",
    "        HotPixel(4, 2, 250),\n",
    "        HotPixel(5, 2, 225),\n",
    "        HotPixel(5, 3, 325)  # Also a group leader\n",
    "    ])   \n",
    "]\n",
    "\n",
    "for hot_pixel_group in TEST_HOT_PIXEL_GROUPS:\n",
    "    hot_pixels = hot_pixel_group.hot_pixels\n",
    "    for hot_pixel in hot_pixels:\n",
    "        TEST_DATA[hot_pixel.y, hot_pixel.x] = hot_pixel.value\n",
    "\n",
    "TEST_DATA"
   ]
  },
  {
   "cell_type": "markdown",
   "id": "c5483a24",
   "metadata": {},
   "source": [
    "## Locate all Hot Pixel Groups in the Test Data\n",
    "\n",
    "\n",
    "As a first cut, we will search for all pixels that have more than 200 ADU after subtracting the master dark."
   ]
  },
  {
   "cell_type": "code",
   "execution_count": 2,
   "id": "7e16c26a",
   "metadata": {},
   "outputs": [
    {
     "name": "stdout",
     "output_type": "stream",
     "text": [
      "Values bigger than 200 = [275. 275. 300. 250. 275. 225. 250. 225. 250. 325.]\n"
     ]
    }
   ],
   "source": [
    "print(\"Values bigger than 200 =\", TEST_DATA[TEST_DATA > 200])"
   ]
  },
  {
   "cell_type": "code",
   "execution_count": 3,
   "id": "34239260",
   "metadata": {},
   "outputs": [
    {
     "data": {
      "text/plain": [
       "array([[  0.,   0., 275.],\n",
       "       [  3.,   0., 275.],\n",
       "       [  0.,   1., 300.],\n",
       "       [  1.,   1., 250.],\n",
       "       [  4.,   1., 275.],\n",
       "       [  3.,   2., 225.],\n",
       "       [  4.,   2., 250.],\n",
       "       [  5.,   2., 225.],\n",
       "       [  1.,   3., 250.],\n",
       "       [  5.,   3., 325.]])"
      ]
     },
     "execution_count": 3,
     "metadata": {},
     "output_type": "execute_result"
    }
   ],
   "source": [
    "exceedances = TEST_DATA > 200  # an array of true-false values\n",
    "\n",
    "values_of_exceedances = TEST_DATA[exceedances]\n",
    "\n",
    "exceedance_indices = np.nonzero(exceedances)  # a crafty way of getting the indices of the exceedances\n",
    "\n",
    "# zip all of what we have found together\n",
    "\n",
    "hot_pixel_list = np.transpose([exceedance_indices[1], exceedance_indices[0], values_of_exceedances])\n",
    "\n",
    "hot_pixel_list"
   ]
  },
  {
   "cell_type": "markdown",
   "id": "0bfff29b",
   "metadata": {},
   "source": [
    "## Find Contiguous Hot Pixels and Pixel Group Leaders\n",
    "\n",
    "Find the contiguous groups of hot pixels.\n",
    "\n",
    "Each hot pixel is examined to see if it is the brightest relative to the eight nearest neighbors. If it is, the brightest of its eight neighbors, then it is added to the leaders. If two neighbors have exactly the same value, the one with the more even indices wins.\n",
    "\n",
    "It becomes the leader of a pixel group containing that contains all contiguous hot pixels"
   ]
  },
  {
   "cell_type": "code",
   "execution_count": 4,
   "id": "73ff074e",
   "metadata": {},
   "outputs": [
    {
     "name": "stdout",
     "output_type": "stream",
     "text": [
      "[  0.   0. 275.]\n",
      "0   False\n",
      "[  3.   0. 275.]\n",
      "1   False\n",
      "[  0.   1. 300.]\n",
      "2   False\n",
      "[  1.   1. 250.]\n",
      "3   False\n",
      "[  4.   1. 275.]\n",
      "4   False\n",
      "[  3.   2. 225.]\n",
      "5   False\n",
      "[  4.   2. 250.]\n",
      "6   False\n",
      "[  5.   2. 225.]\n",
      "7   False\n",
      "[  1.   3. 250.]\n",
      "8   False\n",
      "[  5.   3. 325.]\n",
      "9   True\n"
     ]
    }
   ],
   "source": [
    "def is_winner(candidate_leader, i, j, data):\n",
    "    if candidate_leader[2] > data[j, i]:\n",
    "        return True\n",
    "    elif candidate_leader[2] == data[j, i]:\n",
    "        # some nasty tie-breaking\n",
    "        if candidate_leader[0] > i:\n",
    "            return True\n",
    "        elif candidate_leader[0] == i and candidate_leader[1] > j:\n",
    "            return True        \n",
    "\n",
    "def is_leader(candidate_leader, data):\n",
    "    data_height, data_width = data.shape\n",
    "    for j in [-1, 0, 1]:\n",
    "        if j < 0 or j >= data_height:\n",
    "            continue\n",
    "        for i in [-1, 0, 1]:\n",
    "            if i < 0 or i >= data_width:\n",
    "                continue\n",
    "            if not is_winner(candidate_leader, i, j, data):\n",
    "                return False\n",
    "    return True\n",
    "\n",
    "def find_hot_pixel_groups(data, threshold=200):\n",
    "    data_height, data_width = data.shape\n",
    "    exceedances = data > threshold  # an array of true-false values\n",
    "    values_of_exceedances = data[exceedances]\n",
    "    exceedance_indices = np.nonzero(exceedances)  # a crafty way of getting the indices of the exceedances\n",
    "    candidate_leaders = np.transpose([exceedance_indices[1], exceedance_indices[0], values_of_exceedances])\n",
    "    for i in range(candidate_leaders.shape[0]):\n",
    "        print(candidate_leaders[i])\n",
    "        print(i, ' ', is_leader(candidate_leaders[i], data))\n",
    "\n",
    "#   if (is_leader(hot_pixel, representative_dark_data)):\n",
    "#        hot_pixel_leaders.append(hot_pixel)\n",
    "\n",
    "find_hot_pixel_groups(TEST_DATA, 200)\n",
    "# np.set_printoptions(threshold=sys.maxsize) # Uncommenting this line will cause serious I/O strain\n"
   ]
  },
  {
   "cell_type": "code",
   "execution_count": null,
   "id": "3265ed15",
   "metadata": {},
   "outputs": [],
   "source": []
  }
 ],
 "metadata": {
  "kernelspec": {
   "display_name": "Python 3 (ipykernel)",
   "language": "python",
   "name": "python3"
  },
  "language_info": {
   "codemirror_mode": {
    "name": "ipython",
    "version": 3
   },
   "file_extension": ".py",
   "mimetype": "text/x-python",
   "name": "python",
   "nbconvert_exporter": "python",
   "pygments_lexer": "ipython3",
   "version": "3.10.12"
  }
 },
 "nbformat": 4,
 "nbformat_minor": 5
}
