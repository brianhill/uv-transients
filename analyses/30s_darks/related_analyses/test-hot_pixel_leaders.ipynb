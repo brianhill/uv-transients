{
 "cells": [
  {
   "cell_type": "markdown",
   "id": "3c91c95d",
   "metadata": {},
   "source": [
    "# Test Hot Pixel Groups\n",
    "\n",
    "This notebook tests an algorithm that finds hot pixels, and organizes them into hot pixel groups.\n",
    "\n",
    "## Create the Test Data"
   ]
  },
  {
   "cell_type": "code",
   "execution_count": 1,
   "id": "8d9d239c",
   "metadata": {},
   "outputs": [],
   "source": [
    "# THIS COMMENT IS THE LONGEST A LINE CAN BE AND STILL RENDER COMPLETELY WHEN PRINTING IN LANDSCAPE MODE.\n",
    "\n",
    "import numpy as np\n",
    "import matplotlib.pyplot as plt\n",
    "from math import floor\n",
    "%matplotlib inline\n",
    "\n",
    "from collections import namedtuple\n",
    "\n",
    "HotPixel = namedtuple('HotPixel', 'x y value')\n",
    "HotPixelGroup = namedtuple('HotPixelGroup', 'leader_index hot_pixels')\n",
    "\n",
    "TEST_DATA_WIDTH = 6\n",
    "TEST_DATA_HEIGHT = 4\n",
    "\n",
    "TEST_DATA = np.zeros((TEST_DATA_HEIGHT, TEST_DATA_WIDTH))\n",
    "\n",
    "TEST_HOT_PIXEL_GROUPS = [\n",
    "    HotPixelGroup(1, [\n",
    "        HotPixel(0, 0, 275), \n",
    "        HotPixel(0, 1, 300), # Group leader\n",
    "        HotPixel(1, 1, 250)\n",
    "    ]),\n",
    "    HotPixelGroup(1, [\n",
    "        HotPixel(3, 0, 275),\n",
    "        HotPixel(4, 1, 275), # Group leader that tests tie-breaking algorithm\n",
    "        HotPixel(3, 2, 225),\n",
    "        HotPixel(4, 2, 250),\n",
    "        HotPixel(5, 2, 225),\n",
    "        HotPixel(5, 3, 325)\n",
    "    ]),\n",
    "    HotPixelGroup(0, [\n",
    "        HotPixel(1, 3, 250)  # Isolated hot pixel\n",
    "    ]),\n",
    "    HotPixelGroup(5, [\n",
    "        HotPixel(3, 0, 275), # Note that this group of six pixels is the same as one of the above\n",
    "        HotPixel(4, 1, 275),\n",
    "        HotPixel(3, 2, 225),\n",
    "        HotPixel(4, 2, 250),\n",
    "        HotPixel(5, 2, 225),\n",
    "        HotPixel(5, 3, 325)  # Also a group leader\n",
    "    ])   \n",
    "]\n",
    "\n",
    "for hot_pixel_group in TEST_HOT_PIXEL_GROUPS:\n",
    "    hot_pixels = hot_pixel_group.hot_pixels\n",
    "    for hot_pixel in hot_pixels:\n",
    "        TEST_DATA[hot_pixel.y, hot_pixel.x] = hot_pixel.value\n"
   ]
  },
  {
   "cell_type": "markdown",
   "id": "83d87ff1",
   "metadata": {},
   "source": [
    "## Find Hot Pixel Leaders"
   ]
  },
  {
   "cell_type": "code",
   "execution_count": 2,
   "id": "73ff074e",
   "metadata": {},
   "outputs": [
    {
     "data": {
      "text/plain": [
       "[HotPixel(x=0.0, y=1.0, value=300.0),\n",
       " HotPixel(x=4.0, y=1.0, value=275.0),\n",
       " HotPixel(x=1.0, y=3.0, value=250.0),\n",
       " HotPixel(x=5.0, y=3.0, value=325.0)]"
      ]
     },
     "execution_count": 2,
     "metadata": {},
     "output_type": "execute_result"
    }
   ],
   "source": [
    "def is_winner(candidate_leader, i, j, data):\n",
    "    if candidate_leader.value > data[j, i]:\n",
    "        return True\n",
    "    elif candidate_leader[2] == data[j, i]:\n",
    "        # some nasty tie-breaking\n",
    "        if candidate_leader[0] > i:\n",
    "            return True\n",
    "        elif candidate_leader[0] == i and candidate_leader[1] > j:\n",
    "            return True\n",
    "    else:\n",
    "        return False\n",
    "\n",
    "def is_leader(candidate_leader, data):\n",
    "    data_height, data_width = data.shape\n",
    "    for offset_y in [-1, 0, 1]:\n",
    "        j = floor(candidate_leader.y + offset_y)\n",
    "        if j < 0 or j >= data_height:\n",
    "            continue\n",
    "        for offset_x in [-1, 0, 1]:\n",
    "            i = floor(candidate_leader.x + offset_x)\n",
    "            # we don't compare the candidate wih itself\n",
    "            if offset_x == 0 and offset_y == 0:\n",
    "                continue\n",
    "            if i < 0 or i >= data_width:\n",
    "                continue\n",
    "            if not is_winner(candidate_leader, i, j, data):\n",
    "                return False\n",
    "    return True\n",
    "\n",
    "def find_hot_pixel_leaders(data, threshold=200):\n",
    "    # first we simply find all the hot pixels\n",
    "    data_height, data_width = data.shape\n",
    "    exceedances = data > threshold  # an array of true-false values\n",
    "    values_of_exceedances = data[exceedances]\n",
    "    exceedance_indices = np.nonzero(exceedances)  # a crafty way of getting the indices of the exceedances\n",
    "    # all of the hot pixels are candidate leaders\n",
    "    candidate_leaders = np.transpose([exceedance_indices[1], exceedance_indices[0], values_of_exceedances])\n",
    "    leaders = []\n",
    "    for i in range(candidate_leaders.shape[0]):\n",
    "        row = candidate_leaders[i]\n",
    "        candidate_leader = HotPixel(row[0], row[1], row[2])\n",
    "        if is_leader(candidate_leader, data):\n",
    "            leaders.append(candidate_leader)\n",
    "    return leaders\n",
    "\n",
    "find_hot_pixel_leaders(TEST_DATA, 200)"
   ]
  },
  {
   "cell_type": "code",
   "execution_count": null,
   "id": "bc299120",
   "metadata": {},
   "outputs": [],
   "source": []
  },
  {
   "cell_type": "code",
   "execution_count": null,
   "id": "a86530af",
   "metadata": {},
   "outputs": [],
   "source": [
    "# Display the representative subtracted dark\n",
    "\n",
    "def display_leader(data, leader):\n",
    "    fig, axes = plt.subplots(1, 1, figsize=(8, 8))\n",
    "\n",
    "    lower_x = floor(leader.x - 5)\n",
    "    upper_x = floor(lower_x + 11)\n",
    "    slice_x = slice(lower_x, upper_x)\n",
    "    lower_y = floor(leader.y - 5)\n",
    "    upper_y = floor(lower_y + 11)\n",
    "    slice_y = slice(lower_y, upper_y)\n",
    "    \n",
    "    title = \"x={}:{}, y={}:{} of Subtracted Dark\".format(lower_x, upper_x, lower_y, upper_y)\n",
    "    \n",
    "    subframe = representative_dark_data[lower_y:upper_y, lower_x:upper_x]\n",
    "    \n",
    "    axes.imshow(subframe, cmap='gray')\n",
    "    axes.set_title(title)\n",
    "    plt.tight_layout()\n",
    "    plt.show()\n",
    "\n",
    "for leader in hot_pixel_leaders:\n",
    "    if leader.x >= 400 and leader.x < 500 and leader.y >= 1700 and leader.y < 1800:\n",
    "        display_leader(representative_dark_data, leader)\n"
   ]
  }
 ],
 "metadata": {
  "kernelspec": {
   "display_name": "Python 3 (ipykernel)",
   "language": "python",
   "name": "python3"
  },
  "language_info": {
   "codemirror_mode": {
    "name": "ipython",
    "version": 3
   },
   "file_extension": ".py",
   "mimetype": "text/x-python",
   "name": "python",
   "nbconvert_exporter": "python",
   "pygments_lexer": "ipython3",
   "version": "3.10.12"
  }
 },
 "nbformat": 4,
 "nbformat_minor": 5
}
